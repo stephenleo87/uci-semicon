{
 "cells": [
  {
   "cell_type": "code",
   "execution_count": 1,
   "metadata": {},
   "outputs": [],
   "source": [
    "import pandas as pd\n",
    "import numpy as np\n",
    "import seaborn as sns\n",
    "import matplotlib.pyplot as plt\n",
    "%matplotlib inline\n",
    "\n",
    "import warnings\n",
    "warnings.filterwarnings(\"ignore\")"
   ]
  },
  {
   "cell_type": "code",
   "execution_count": 2,
   "metadata": {},
   "outputs": [
    {
     "name": "stdout",
     "output_type": "stream",
     "text": [
      "labels_df shape = (1567, 2)\n"
     ]
    },
    {
     "data": {
      "text/html": [
       "<div>\n",
       "<style scoped>\n",
       "    .dataframe tbody tr th:only-of-type {\n",
       "        vertical-align: middle;\n",
       "    }\n",
       "\n",
       "    .dataframe tbody tr th {\n",
       "        vertical-align: top;\n",
       "    }\n",
       "\n",
       "    .dataframe thead th {\n",
       "        text-align: right;\n",
       "    }\n",
       "</style>\n",
       "<table border=\"1\" class=\"dataframe\">\n",
       "  <thead>\n",
       "    <tr style=\"text-align: right;\">\n",
       "      <th></th>\n",
       "      <th>Label</th>\n",
       "      <th>Date</th>\n",
       "    </tr>\n",
       "  </thead>\n",
       "  <tbody>\n",
       "    <tr>\n",
       "      <th>0</th>\n",
       "      <td>-1</td>\n",
       "      <td>2008-07-19 11:55:00</td>\n",
       "    </tr>\n",
       "    <tr>\n",
       "      <th>1</th>\n",
       "      <td>-1</td>\n",
       "      <td>2008-07-19 12:32:00</td>\n",
       "    </tr>\n",
       "    <tr>\n",
       "      <th>2</th>\n",
       "      <td>1</td>\n",
       "      <td>2008-07-19 13:17:00</td>\n",
       "    </tr>\n",
       "    <tr>\n",
       "      <th>3</th>\n",
       "      <td>-1</td>\n",
       "      <td>2008-07-19 14:43:00</td>\n",
       "    </tr>\n",
       "    <tr>\n",
       "      <th>4</th>\n",
       "      <td>-1</td>\n",
       "      <td>2008-07-19 15:22:00</td>\n",
       "    </tr>\n",
       "  </tbody>\n",
       "</table>\n",
       "</div>"
      ],
      "text/plain": [
       "   Label                Date\n",
       "0     -1 2008-07-19 11:55:00\n",
       "1     -1 2008-07-19 12:32:00\n",
       "2      1 2008-07-19 13:17:00\n",
       "3     -1 2008-07-19 14:43:00\n",
       "4     -1 2008-07-19 15:22:00"
      ]
     },
     "execution_count": 2,
     "metadata": {},
     "output_type": "execute_result"
    }
   ],
   "source": [
    "labels_df = pd.read_csv('data/secom_labels.data', sep=' ', header = None)\n",
    "labels_df.columns = ['Label', 'Date']\n",
    "labels_df['Date'] = pd.to_datetime(labels_df['Date'], format = \"%d/%m/%Y %H:%M:%S\")\n",
    "print('labels_df shape = {}'.format(labels_df.shape))\n",
    "labels_df.head()"
   ]
  },
  {
   "cell_type": "code",
   "execution_count": 3,
   "metadata": {},
   "outputs": [
    {
     "data": {
      "text/plain": [
       "<matplotlib.axes._subplots.AxesSubplot at 0x7f3c17740908>"
      ]
     },
     "execution_count": 3,
     "metadata": {},
     "output_type": "execute_result"
    },
    {
     "data": {
      "image/png": "[encoded data removed]",
      "text/plain": [
       "<matplotlib.figure.Figure at 0x7f3c4b1756a0>"
      ]
     },
     "metadata": {},
     "output_type": "display_data"
    }
   ],
   "source": [
    "labels_df['Label'] = labels_df['Label'].apply(lambda x: 0 if x == -1 else 1)\n",
    "labels_df['Label'].hist()"
   ]
  },
  {
   "cell_type": "code",
   "execution_count": 4,
   "metadata": {},
   "outputs": [
    {
     "data": {
      "text/html": [
       "<div>\n",
       "<style scoped>\n",
       "    .dataframe tbody tr th:only-of-type {\n",
       "        vertical-align: middle;\n",
       "    }\n",
       "\n",
       "    .dataframe tbody tr th {\n",
       "        vertical-align: top;\n",
       "    }\n",
       "\n",
       "    .dataframe thead th {\n",
       "        text-align: right;\n",
       "    }\n",
       "</style>\n",
       "<table border=\"1\" class=\"dataframe\">\n",
       "  <thead>\n",
       "    <tr style=\"text-align: right;\">\n",
       "      <th></th>\n",
       "      <th>Date</th>\n",
       "      <th>Sum</th>\n",
       "      <th>Count</th>\n",
       "    </tr>\n",
       "  </thead>\n",
       "  <tbody>\n",
       "    <tr>\n",
       "      <th>0</th>\n",
       "      <td>2008-07-19</td>\n",
       "      <td>3</td>\n",
       "      <td>12</td>\n",
       "    </tr>\n",
       "    <tr>\n",
       "      <th>1</th>\n",
       "      <td>2008-07-20</td>\n",
       "      <td>0</td>\n",
       "      <td>1</td>\n",
       "    </tr>\n",
       "    <tr>\n",
       "      <th>2</th>\n",
       "      <td>2008-07-21</td>\n",
       "      <td>1</td>\n",
       "      <td>2</td>\n",
       "    </tr>\n",
       "    <tr>\n",
       "      <th>3</th>\n",
       "      <td>2008-07-22</td>\n",
       "      <td>0</td>\n",
       "      <td>6</td>\n",
       "    </tr>\n",
       "    <tr>\n",
       "      <th>4</th>\n",
       "      <td>2008-07-23</td>\n",
       "      <td>0</td>\n",
       "      <td>2</td>\n",
       "    </tr>\n",
       "  </tbody>\n",
       "</table>\n",
       "</div>"
      ],
      "text/plain": [
       "        Date  Sum  Count\n",
       "0 2008-07-19    3     12\n",
       "1 2008-07-20    0      1\n",
       "2 2008-07-21    1      2\n",
       "3 2008-07-22    0      6\n",
       "4 2008-07-23    0      2"
      ]
     },
     "execution_count": 4,
     "metadata": {},
     "output_type": "execute_result"
    }
   ],
   "source": [
    "label_sum = labels_df['Label'].groupby(labels_df['Date'].dt.date).sum().reset_index()\n",
    "label_count = labels_df['Label'].groupby(labels_df['Date'].dt.date).count().reset_index()\n",
    "label_day = pd.merge(label_sum, label_count, on='Date')\n",
    "label_day.columns = ['Date', 'Sum', 'Count']\n",
    "label_day['Date'] = pd.to_datetime(label_day['Date'])\n",
    "label_day.head()"
   ]
  },
  {
   "cell_type": "code",
   "execution_count": 5,
   "metadata": {
    "scrolled": false
   },
   "outputs": [
    {
     "data": {
      "image/png": "[encoded data removed]",
      "text/plain": [
       "<matplotlib.figure.Figure at 0x7f3c178aeb70>"
      ]
     },
     "metadata": {},
     "output_type": "display_data"
    }
   ],
   "source": [
    "# Create a figure with shared X axis\n",
    "fig, axs = plt.subplots(2, 1, sharex=True, figsize = (15,7))\n",
    "\n",
    "# Remove horizontal space between axes\n",
    "fig.subplots_adjust(hspace=0)\n",
    "\n",
    "# Set the width of the bars to be 1 day\n",
    "#width = np.timedelta64(1, 'D')\n",
    "\n",
    "# Plot the Sum of fails per day and count of entries per day\n",
    "axs[0].bar(label_day['Date'], label_day['Sum'], color = 'red')\n",
    "axs[1].bar(label_day['Date'], label_day['Count'], color = 'blue')\n",
    "axs[0].set_ylabel('Total Fails per day')\n",
    "axs[1].set_ylabel('Total Count of data per day')\n",
    "axs[1].set_xlabel('Date');"
   ]
  },
  {
   "cell_type": "code",
   "execution_count": null,
   "metadata": {},
   "outputs": [],
   "source": []
  },
  {
   "cell_type": "code",
   "execution_count": null,
   "metadata": {},
   "outputs": [],
   "source": [
    "# Data export for GCP AutoML"
   ]
  },
  {
   "cell_type": "code",
   "execution_count": 9,
   "metadata": {},
   "outputs": [
    {
     "name": "stdout",
     "output_type": "stream",
     "text": [
      "data_df shape = (1567, 590)\n"
     ]
    },
    {
     "data": {
      "text/html": [
       "<div>\n",
       "<style scoped>\n",
       "    .dataframe tbody tr th:only-of-type {\n",
       "        vertical-align: middle;\n",
       "    }\n",
       "\n",
       "    .dataframe tbody tr th {\n",
       "        vertical-align: top;\n",
       "    }\n",
       "\n",
       "    .dataframe thead th {\n",
       "        text-align: right;\n",
       "    }\n",
       "</style>\n",
       "<table border=\"1\" class=\"dataframe\">\n",
       "  <thead>\n",
       "    <tr style=\"text-align: right;\">\n",
       "      <th></th>\n",
       "      <th>x_0</th>\n",
       "      <th>x_1</th>\n",
       "      <th>x_2</th>\n",
       "      <th>x_3</th>\n",
       "      <th>x_4</th>\n",
       "      <th>x_5</th>\n",
       "      <th>x_6</th>\n",
       "      <th>x_7</th>\n",
       "      <th>x_8</th>\n",
       "      <th>x_9</th>\n",
       "      <th>...</th>\n",
       "      <th>x_580</th>\n",
       "      <th>x_581</th>\n",
       "      <th>x_582</th>\n",
       "      <th>x_583</th>\n",
       "      <th>x_584</th>\n",
       "      <th>x_585</th>\n",
       "      <th>x_586</th>\n",
       "      <th>x_587</th>\n",
       "      <th>x_588</th>\n",
       "      <th>x_589</th>\n",
       "    </tr>\n",
       "  </thead>\n",
       "  <tbody>\n",
       "    <tr>\n",
       "      <th>0</th>\n",
       "      <td>3030.93</td>\n",
       "      <td>2564.00</td>\n",
       "      <td>2187.7333</td>\n",
       "      <td>1411.1265</td>\n",
       "      <td>1.3602</td>\n",
       "      <td>100.0</td>\n",
       "      <td>97.6133</td>\n",
       "      <td>0.1242</td>\n",
       "      <td>1.5005</td>\n",
       "      <td>0.0162</td>\n",
       "      <td>...</td>\n",
       "      <td>NaN</td>\n",
       "      <td>NaN</td>\n",
       "      <td>0.5005</td>\n",
       "      <td>0.0118</td>\n",
       "      <td>0.0035</td>\n",
       "      <td>2.3630</td>\n",
       "      <td>NaN</td>\n",
       "      <td>NaN</td>\n",
       "      <td>NaN</td>\n",
       "      <td>NaN</td>\n",
       "    </tr>\n",
       "    <tr>\n",
       "      <th>1</th>\n",
       "      <td>3095.78</td>\n",
       "      <td>2465.14</td>\n",
       "      <td>2230.4222</td>\n",
       "      <td>1463.6606</td>\n",
       "      <td>0.8294</td>\n",
       "      <td>100.0</td>\n",
       "      <td>102.3433</td>\n",
       "      <td>0.1247</td>\n",
       "      <td>1.4966</td>\n",
       "      <td>-0.0005</td>\n",
       "      <td>...</td>\n",
       "      <td>0.0060</td>\n",
       "      <td>208.2045</td>\n",
       "      <td>0.5019</td>\n",
       "      <td>0.0223</td>\n",
       "      <td>0.0055</td>\n",
       "      <td>4.4447</td>\n",
       "      <td>0.0096</td>\n",
       "      <td>0.0201</td>\n",
       "      <td>0.0060</td>\n",
       "      <td>208.2045</td>\n",
       "    </tr>\n",
       "    <tr>\n",
       "      <th>2</th>\n",
       "      <td>2932.61</td>\n",
       "      <td>2559.94</td>\n",
       "      <td>2186.4111</td>\n",
       "      <td>1698.0172</td>\n",
       "      <td>1.5102</td>\n",
       "      <td>100.0</td>\n",
       "      <td>95.4878</td>\n",
       "      <td>0.1241</td>\n",
       "      <td>1.4436</td>\n",
       "      <td>0.0041</td>\n",
       "      <td>...</td>\n",
       "      <td>0.0148</td>\n",
       "      <td>82.8602</td>\n",
       "      <td>0.4958</td>\n",
       "      <td>0.0157</td>\n",
       "      <td>0.0039</td>\n",
       "      <td>3.1745</td>\n",
       "      <td>0.0584</td>\n",
       "      <td>0.0484</td>\n",
       "      <td>0.0148</td>\n",
       "      <td>82.8602</td>\n",
       "    </tr>\n",
       "    <tr>\n",
       "      <th>3</th>\n",
       "      <td>2988.72</td>\n",
       "      <td>2479.90</td>\n",
       "      <td>2199.0333</td>\n",
       "      <td>909.7926</td>\n",
       "      <td>1.3204</td>\n",
       "      <td>100.0</td>\n",
       "      <td>104.2367</td>\n",
       "      <td>0.1217</td>\n",
       "      <td>1.4882</td>\n",
       "      <td>-0.0124</td>\n",
       "      <td>...</td>\n",
       "      <td>0.0044</td>\n",
       "      <td>73.8432</td>\n",
       "      <td>0.4990</td>\n",
       "      <td>0.0103</td>\n",
       "      <td>0.0025</td>\n",
       "      <td>2.0544</td>\n",
       "      <td>0.0202</td>\n",
       "      <td>0.0149</td>\n",
       "      <td>0.0044</td>\n",
       "      <td>73.8432</td>\n",
       "    </tr>\n",
       "    <tr>\n",
       "      <th>4</th>\n",
       "      <td>3032.24</td>\n",
       "      <td>2502.87</td>\n",
       "      <td>2233.3667</td>\n",
       "      <td>1326.5200</td>\n",
       "      <td>1.5334</td>\n",
       "      <td>100.0</td>\n",
       "      <td>100.3967</td>\n",
       "      <td>0.1235</td>\n",
       "      <td>1.5031</td>\n",
       "      <td>-0.0031</td>\n",
       "      <td>...</td>\n",
       "      <td>NaN</td>\n",
       "      <td>NaN</td>\n",
       "      <td>0.4800</td>\n",
       "      <td>0.4766</td>\n",
       "      <td>0.1045</td>\n",
       "      <td>99.3032</td>\n",
       "      <td>0.0202</td>\n",
       "      <td>0.0149</td>\n",
       "      <td>0.0044</td>\n",
       "      <td>73.8432</td>\n",
       "    </tr>\n",
       "  </tbody>\n",
       "</table>\n",
       "<p>5 rows × 590 columns</p>\n",
       "</div>"
      ],
      "text/plain": [
       "       x_0      x_1        x_2        x_3     x_4    x_5       x_6     x_7  \\\n",
       "0  3030.93  2564.00  2187.7333  1411.1265  1.3602  100.0   97.6133  0.1242   \n",
       "1  3095.78  2465.14  2230.4222  1463.6606  0.8294  100.0  102.3433  0.1247   \n",
       "2  2932.61  2559.94  2186.4111  1698.0172  1.5102  100.0   95.4878  0.1241   \n",
       "3  2988.72  2479.90  2199.0333   909.7926  1.3204  100.0  104.2367  0.1217   \n",
       "4  3032.24  2502.87  2233.3667  1326.5200  1.5334  100.0  100.3967  0.1235   \n",
       "\n",
       "      x_8     x_9    ...      x_580     x_581   x_582   x_583   x_584  \\\n",
       "0  1.5005  0.0162    ...        NaN       NaN  0.5005  0.0118  0.0035   \n",
       "1  1.4966 -0.0005    ...     0.0060  208.2045  0.5019  0.0223  0.0055   \n",
       "2  1.4436  0.0041    ...     0.0148   82.8602  0.4958  0.0157  0.0039   \n",
       "3  1.4882 -0.0124    ...     0.0044   73.8432  0.4990  0.0103  0.0025   \n",
       "4  1.5031 -0.0031    ...        NaN       NaN  0.4800  0.4766  0.1045   \n",
       "\n",
       "     x_585   x_586   x_587   x_588     x_589  \n",
       "0   2.3630     NaN     NaN     NaN       NaN  \n",
       "1   4.4447  0.0096  0.0201  0.0060  208.2045  \n",
       "2   3.1745  0.0584  0.0484  0.0148   82.8602  \n",
       "3   2.0544  0.0202  0.0149  0.0044   73.8432  \n",
       "4  99.3032  0.0202  0.0149  0.0044   73.8432  \n",
       "\n",
       "[5 rows x 590 columns]"
      ]
     },
     "execution_count": 9,
     "metadata": {},
     "output_type": "execute_result"
    }
   ],
   "source": [
    "data_df = pd.read_csv('data/secom.data', sep=' ', header = None)\n",
    "print('data_df shape = {}'.format(data_df.shape))\n",
    "data_df.columns = ['x_{}'.format(i) for i in range (0,590)]\n",
    "data_df.head()"
   ]
  },
  {
   "cell_type": "code",
   "execution_count": 15,
   "metadata": {},
   "outputs": [
    {
     "name": "stdout",
     "output_type": "stream",
     "text": [
      "(1567, 592)\n"
     ]
    },
    {
     "data": {
      "text/html": [
       "<div>\n",
       "<style scoped>\n",
       "    .dataframe tbody tr th:only-of-type {\n",
       "        vertical-align: middle;\n",
       "    }\n",
       "\n",
       "    .dataframe tbody tr th {\n",
       "        vertical-align: top;\n",
       "    }\n",
       "\n",
       "    .dataframe thead th {\n",
       "        text-align: right;\n",
       "    }\n",
       "</style>\n",
       "<table border=\"1\" class=\"dataframe\">\n",
       "  <thead>\n",
       "    <tr style=\"text-align: right;\">\n",
       "      <th></th>\n",
       "      <th>x_0</th>\n",
       "      <th>x_1</th>\n",
       "      <th>x_2</th>\n",
       "      <th>x_3</th>\n",
       "      <th>x_4</th>\n",
       "      <th>x_5</th>\n",
       "      <th>x_6</th>\n",
       "      <th>x_7</th>\n",
       "      <th>x_8</th>\n",
       "      <th>x_9</th>\n",
       "      <th>...</th>\n",
       "      <th>x_582</th>\n",
       "      <th>x_583</th>\n",
       "      <th>x_584</th>\n",
       "      <th>x_585</th>\n",
       "      <th>x_586</th>\n",
       "      <th>x_587</th>\n",
       "      <th>x_588</th>\n",
       "      <th>x_589</th>\n",
       "      <th>Label</th>\n",
       "      <th>Date</th>\n",
       "    </tr>\n",
       "  </thead>\n",
       "  <tbody>\n",
       "    <tr>\n",
       "      <th>0</th>\n",
       "      <td>3030.93</td>\n",
       "      <td>2564.00</td>\n",
       "      <td>2187.7333</td>\n",
       "      <td>1411.1265</td>\n",
       "      <td>1.3602</td>\n",
       "      <td>100.0</td>\n",
       "      <td>97.6133</td>\n",
       "      <td>0.1242</td>\n",
       "      <td>1.5005</td>\n",
       "      <td>0.0162</td>\n",
       "      <td>...</td>\n",
       "      <td>0.5005</td>\n",
       "      <td>0.0118</td>\n",
       "      <td>0.0035</td>\n",
       "      <td>2.3630</td>\n",
       "      <td>NaN</td>\n",
       "      <td>NaN</td>\n",
       "      <td>NaN</td>\n",
       "      <td>NaN</td>\n",
       "      <td>0</td>\n",
       "      <td>2008-07-19 11:55:00</td>\n",
       "    </tr>\n",
       "    <tr>\n",
       "      <th>1</th>\n",
       "      <td>3095.78</td>\n",
       "      <td>2465.14</td>\n",
       "      <td>2230.4222</td>\n",
       "      <td>1463.6606</td>\n",
       "      <td>0.8294</td>\n",
       "      <td>100.0</td>\n",
       "      <td>102.3433</td>\n",
       "      <td>0.1247</td>\n",
       "      <td>1.4966</td>\n",
       "      <td>-0.0005</td>\n",
       "      <td>...</td>\n",
       "      <td>0.5019</td>\n",
       "      <td>0.0223</td>\n",
       "      <td>0.0055</td>\n",
       "      <td>4.4447</td>\n",
       "      <td>0.0096</td>\n",
       "      <td>0.0201</td>\n",
       "      <td>0.0060</td>\n",
       "      <td>208.2045</td>\n",
       "      <td>0</td>\n",
       "      <td>2008-07-19 12:32:00</td>\n",
       "    </tr>\n",
       "    <tr>\n",
       "      <th>2</th>\n",
       "      <td>2932.61</td>\n",
       "      <td>2559.94</td>\n",
       "      <td>2186.4111</td>\n",
       "      <td>1698.0172</td>\n",
       "      <td>1.5102</td>\n",
       "      <td>100.0</td>\n",
       "      <td>95.4878</td>\n",
       "      <td>0.1241</td>\n",
       "      <td>1.4436</td>\n",
       "      <td>0.0041</td>\n",
       "      <td>...</td>\n",
       "      <td>0.4958</td>\n",
       "      <td>0.0157</td>\n",
       "      <td>0.0039</td>\n",
       "      <td>3.1745</td>\n",
       "      <td>0.0584</td>\n",
       "      <td>0.0484</td>\n",
       "      <td>0.0148</td>\n",
       "      <td>82.8602</td>\n",
       "      <td>1</td>\n",
       "      <td>2008-07-19 13:17:00</td>\n",
       "    </tr>\n",
       "    <tr>\n",
       "      <th>3</th>\n",
       "      <td>2988.72</td>\n",
       "      <td>2479.90</td>\n",
       "      <td>2199.0333</td>\n",
       "      <td>909.7926</td>\n",
       "      <td>1.3204</td>\n",
       "      <td>100.0</td>\n",
       "      <td>104.2367</td>\n",
       "      <td>0.1217</td>\n",
       "      <td>1.4882</td>\n",
       "      <td>-0.0124</td>\n",
       "      <td>...</td>\n",
       "      <td>0.4990</td>\n",
       "      <td>0.0103</td>\n",
       "      <td>0.0025</td>\n",
       "      <td>2.0544</td>\n",
       "      <td>0.0202</td>\n",
       "      <td>0.0149</td>\n",
       "      <td>0.0044</td>\n",
       "      <td>73.8432</td>\n",
       "      <td>0</td>\n",
       "      <td>2008-07-19 14:43:00</td>\n",
       "    </tr>\n",
       "    <tr>\n",
       "      <th>4</th>\n",
       "      <td>3032.24</td>\n",
       "      <td>2502.87</td>\n",
       "      <td>2233.3667</td>\n",
       "      <td>1326.5200</td>\n",
       "      <td>1.5334</td>\n",
       "      <td>100.0</td>\n",
       "      <td>100.3967</td>\n",
       "      <td>0.1235</td>\n",
       "      <td>1.5031</td>\n",
       "      <td>-0.0031</td>\n",
       "      <td>...</td>\n",
       "      <td>0.4800</td>\n",
       "      <td>0.4766</td>\n",
       "      <td>0.1045</td>\n",
       "      <td>99.3032</td>\n",
       "      <td>0.0202</td>\n",
       "      <td>0.0149</td>\n",
       "      <td>0.0044</td>\n",
       "      <td>73.8432</td>\n",
       "      <td>0</td>\n",
       "      <td>2008-07-19 15:22:00</td>\n",
       "    </tr>\n",
       "  </tbody>\n",
       "</table>\n",
       "<p>5 rows × 592 columns</p>\n",
       "</div>"
      ],
      "text/plain": [
       "       x_0      x_1        x_2        x_3     x_4    x_5       x_6     x_7  \\\n",
       "0  3030.93  2564.00  2187.7333  1411.1265  1.3602  100.0   97.6133  0.1242   \n",
       "1  3095.78  2465.14  2230.4222  1463.6606  0.8294  100.0  102.3433  0.1247   \n",
       "2  2932.61  2559.94  2186.4111  1698.0172  1.5102  100.0   95.4878  0.1241   \n",
       "3  2988.72  2479.90  2199.0333   909.7926  1.3204  100.0  104.2367  0.1217   \n",
       "4  3032.24  2502.87  2233.3667  1326.5200  1.5334  100.0  100.3967  0.1235   \n",
       "\n",
       "      x_8     x_9         ...           x_582   x_583   x_584    x_585  \\\n",
       "0  1.5005  0.0162         ...          0.5005  0.0118  0.0035   2.3630   \n",
       "1  1.4966 -0.0005         ...          0.5019  0.0223  0.0055   4.4447   \n",
       "2  1.4436  0.0041         ...          0.4958  0.0157  0.0039   3.1745   \n",
       "3  1.4882 -0.0124         ...          0.4990  0.0103  0.0025   2.0544   \n",
       "4  1.5031 -0.0031         ...          0.4800  0.4766  0.1045  99.3032   \n",
       "\n",
       "    x_586   x_587   x_588     x_589  Label                Date  \n",
       "0     NaN     NaN     NaN       NaN      0 2008-07-19 11:55:00  \n",
       "1  0.0096  0.0201  0.0060  208.2045      0 2008-07-19 12:32:00  \n",
       "2  0.0584  0.0484  0.0148   82.8602      1 2008-07-19 13:17:00  \n",
       "3  0.0202  0.0149  0.0044   73.8432      0 2008-07-19 14:43:00  \n",
       "4  0.0202  0.0149  0.0044   73.8432      0 2008-07-19 15:22:00  \n",
       "\n",
       "[5 rows x 592 columns]"
      ]
     },
     "execution_count": 15,
     "metadata": {},
     "output_type": "execute_result"
    }
   ],
   "source": [
    "merged_df = data_df.merge(labels_df, left_index=True, right_index=True)\n",
    "print(merged_df.shape)\n",
    "merged_df.head()"
   ]
  },
  {
   "cell_type": "code",
   "execution_count": 12,
   "metadata": {},
   "outputs": [
    {
     "data": {
      "text/plain": [
       "(1208, 592)"
      ]
     },
     "execution_count": 12,
     "metadata": {},
     "output_type": "execute_result"
    }
   ],
   "source": [
    "split_date = '2008-10-01'\n",
    "train_df = merged_df[merged_df['Date'] < split_date]\n",
    "test_df = merged_df[merged_df['Date'] >= split_date]\n",
    "train_df.shape"
   ]
  },
  {
   "cell_type": "code",
   "execution_count": 16,
   "metadata": {},
   "outputs": [],
   "source": [
    "train_df.to_csv('train_df.csv', index=False)\n",
    "test_df.to_csv('test_df.csv', index=False)"
   ]
  },
  {
   "cell_type": "code",
   "execution_count": null,
   "metadata": {},
   "outputs": [],
   "source": []
  },
  {
   "cell_type": "code",
   "execution_count": null,
   "metadata": {},
   "outputs": [],
   "source": [
    "# Continue manual analysis"
   ]
  },
  {
   "cell_type": "code",
   "execution_count": 17,
   "metadata": {},
   "outputs": [
    {
     "data": {
      "text/plain": [
       "x_293    1429\n",
       "x_157    1429\n",
       "x_158    1429\n",
       "x_292    1429\n",
       "x_85     1341\n",
       "x_492    1341\n",
       "x_220    1341\n",
       "x_358    1341\n",
       "x_517    1018\n",
       "x_516    1018\n",
       "x_384    1018\n",
       "x_383    1018\n",
       "x_382    1018\n",
       "x_245    1018\n",
       "x_246    1018\n",
       "x_518    1018\n",
       "x_244    1018\n",
       "x_111    1018\n",
       "x_110    1018\n",
       "x_109    1018\n",
       "x_580     949\n",
       "x_581     949\n",
       "x_579     949\n",
       "x_578     949\n",
       "x_72      794\n",
       "x_346     794\n",
       "x_73      794\n",
       "x_345     794\n",
       "x_247     715\n",
       "x_112     715\n",
       "x_385     715\n",
       "x_519     715\n",
       "x_568     273\n",
       "x_563     273\n",
       "x_567     273\n",
       "x_566     273\n",
       "x_569     273\n",
       "x_565     273\n",
       "x_564     273\n",
       "x_562     273\n",
       "x_547     260\n",
       "x_546     260\n",
       "x_556     260\n",
       "x_555     260\n",
       "x_554     260\n",
       "x_553     260\n",
       "x_552     260\n",
       "x_551     260\n",
       "x_550     260\n",
       "x_549     260\n",
       "x_548     260\n",
       "x_557     260\n",
       "dtype: int64"
      ]
     },
     "execution_count": 17,
     "metadata": {},
     "output_type": "execute_result"
    }
   ],
   "source": [
    "data_df_missing_count = data_df.isna().sum()\n",
    "data_df_missing_count[data_df_missing_count > 100].sort_values(ascending = False)"
   ]
  },
  {
   "cell_type": "code",
   "execution_count": 18,
   "metadata": {},
   "outputs": [],
   "source": [
    "def train_test_split(data_df, labels_df, split_date):\n",
    "    y_train = labels_df['Label'][labels_df['Date'] < split_date]\n",
    "    y_test = labels_df['Label'][labels_df['Date'] >= split_date]\n",
    "    \n",
    "    X_train = data_df.loc[y_train.index]\n",
    "    X_test = data_df.loc[y_test.index]\n",
    "    \n",
    "    print('X_train, y_train, X_test, y_test shapes: {}, {}, {}, {}'\\\n",
    "      .format(X_train.shape, y_train.shape, X_test.shape, y_test.shape))\n",
    "    \n",
    "    return X_train, y_train, X_test, y_test"
   ]
  },
  {
   "cell_type": "code",
   "execution_count": 19,
   "metadata": {},
   "outputs": [
    {
     "name": "stdout",
     "output_type": "stream",
     "text": [
      "X_train, y_train, X_test, y_test shapes: (1208, 590), (1208,), (359, 590), (359,)\n"
     ]
    }
   ],
   "source": [
    "X_train, y_train, X_test, y_test = train_test_split(data_df, labels_df, '2008-10-01')"
   ]
  },
  {
   "cell_type": "code",
   "execution_count": null,
   "metadata": {},
   "outputs": [],
   "source": []
  },
  {
   "cell_type": "code",
   "execution_count": 20,
   "metadata": {},
   "outputs": [],
   "source": [
    "# Classification"
   ]
  },
  {
   "cell_type": "code",
   "execution_count": 21,
   "metadata": {},
   "outputs": [],
   "source": [
    "from sklearn.neural_network import MLPClassifier\n",
    "from sklearn.neighbors import KNeighborsClassifier\n",
    "from sklearn.svm import SVC\n",
    "from sklearn.gaussian_process import GaussianProcessClassifier\n",
    "from sklearn.gaussian_process.kernels import RBF\n",
    "from sklearn.tree import DecisionTreeClassifier\n",
    "from sklearn.ensemble import RandomForestClassifier, AdaBoostClassifier, GradientBoostingClassifier\n",
    "from sklearn.naive_bayes import GaussianNB\n",
    "from sklearn.discriminant_analysis import QuadraticDiscriminantAnalysis\n",
    "from sklearn import metrics"
   ]
  },
  {
   "cell_type": "code",
   "execution_count": 22,
   "metadata": {},
   "outputs": [],
   "source": [
    "def classifier_comparison(X_train, y_train, X_test, y_test):\n",
    "    names = [\"Nearest Neighbors\", \"Decision Tree\", \"Random Forest\", \"Neural Net\", \"AdaBoost\", \"Gradient Boosting\", \"Naive Bayes\", \"QDA\"]\n",
    "\n",
    "    classifiers = [\n",
    "        KNeighborsClassifier(),\n",
    "        DecisionTreeClassifier(),\n",
    "        RandomForestClassifier(),\n",
    "        MLPClassifier(),\n",
    "        AdaBoostClassifier(),\n",
    "        GradientBoostingClassifier(),\n",
    "        GaussianNB(),\n",
    "        QuadraticDiscriminantAnalysis()]\n",
    "    \n",
    "    for name, clf in zip(names, classifiers):\n",
    "        clf.fit(X_train, y_train)\n",
    "        y_pred = clf.predict(X_train)\n",
    "        fpr, tpr, thresholds = metrics.roc_curve(y_train, y_pred)\n",
    "        print('{} train AUC: {}'.format(name, metrics.auc(fpr, tpr)))\n",
    "        y_pred = clf.predict(X_test)\n",
    "        fpr, tpr, thresholds = metrics.roc_curve(y_test, y_pred)\n",
    "        print('{} test AUC: {}\\n'.format(name, metrics.auc(fpr, tpr)))"
   ]
  },
  {
   "cell_type": "code",
   "execution_count": 23,
   "metadata": {},
   "outputs": [],
   "source": [
    "# Imputation"
   ]
  },
  {
   "cell_type": "code",
   "execution_count": 24,
   "metadata": {},
   "outputs": [],
   "source": [
    "from sklearn.preprocessing import Imputer\n",
    "\n",
    "imp = Imputer(strategy='mean')\n",
    "imp = imp.fit(X_train)\n",
    "\n",
    "X_train_imp = imp.transform(X_train)\n",
    "X_test_imp = imp.transform(X_test)"
   ]
  },
  {
   "cell_type": "code",
   "execution_count": 25,
   "metadata": {
    "scrolled": false
   },
   "outputs": [
    {
     "name": "stdout",
     "output_type": "stream",
     "text": [
      "Nearest Neighbors train AUC: 0.517404583459689\n",
      "Nearest Neighbors test AUC: 0.49554896142433236\n",
      "\n",
      "Decision Tree train AUC: 1.0\n",
      "Decision Tree test AUC: 0.5231993525762072\n",
      "\n",
      "Random Forest train AUC: 0.9146341463414633\n",
      "Random Forest test AUC: 0.49851632047477745\n",
      "\n",
      "Neural Net train AUC: 0.5\n",
      "Neural Net test AUC: 0.5\n",
      "\n",
      "AdaBoost train AUC: 0.8719512195121951\n",
      "AdaBoost test AUC: 0.5093741570002697\n",
      "\n",
      "Gradient Boosting train AUC: 0.9207317073170731\n",
      "Gradient Boosting test AUC: 0.4910979228486647\n",
      "\n",
      "Naive Bayes train AUC: 0.6448576874756313\n",
      "Naive Bayes test AUC: 0.5735095764769356\n",
      "\n",
      "QDA train AUC: 0.5304878048780488\n",
      "QDA test AUC: 0.49851632047477745\n",
      "\n"
     ]
    }
   ],
   "source": [
    "classifier_comparison(X_train_imp, y_train, X_test_imp, y_test)"
   ]
  },
  {
   "cell_type": "code",
   "execution_count": 16,
   "metadata": {},
   "outputs": [],
   "source": [
    "# SMOTE"
   ]
  },
  {
   "cell_type": "code",
   "execution_count": 27,
   "metadata": {},
   "outputs": [
    {
     "name": "stdout",
     "output_type": "stream",
     "text": [
      "Collecting imblearn\n",
      "  Downloading https://files.pythonhosted.org/packages/81/a7/4179e6ebfd654bd0eac0b9c06125b8b4c96a9d0a8ff9e9507eb2a26d2d7e/imblearn-0.0-py2.py3-none-any.whl\n",
      "Collecting imbalanced-learn (from imblearn)\n",
      "\u001b[?25l  Downloading https://files.pythonhosted.org/packages/e5/4c/7557e1c2e791bd43878f8c82065bddc5798252084f26ef44527c02262af1/imbalanced_learn-0.4.3-py3-none-any.whl (166kB)\n",
      "\u001b[K    100% |████████████████████████████████| 174kB 8.0MB/s ta 0:00:01\n",
      "\u001b[?25hRequirement already satisfied: scipy>=0.13.3 in /usr/local/envs/py3env/lib/python3.5/site-packages (from imbalanced-learn->imblearn) (1.0.0)\n",
      "Collecting scikit-learn>=0.20 (from imbalanced-learn->imblearn)\n",
      "\u001b[?25l  Downloading https://files.pythonhosted.org/packages/99/6c/bbbf3452cd5c8ed8e6cb51d37e06ebea3113d347085a59a21f19ee76c8eb/scikit_learn-0.21.2-cp35-cp35m-manylinux1_x86_64.whl (6.6MB)\n",
      "\u001b[K    100% |████████████████████████████████| 6.6MB 4.9MB/s eta 0:00:01\n",
      "\u001b[?25hRequirement already satisfied: numpy>=1.8.2 in /usr/local/envs/py3env/lib/python3.5/site-packages (from imbalanced-learn->imblearn) (1.14.0)\n",
      "Collecting joblib>=0.11 (from scikit-learn>=0.20->imbalanced-learn->imblearn)\n",
      "\u001b[?25l  Downloading https://files.pythonhosted.org/packages/cd/c1/50a758e8247561e58cb87305b1e90b171b8c767b15b12a1734001f41d356/joblib-0.13.2-py2.py3-none-any.whl (278kB)\n",
      "\u001b[K    100% |████████████████████████████████| 286kB 28.0MB/s ta 0:00:01\n",
      "\u001b[?25hInstalling collected packages: joblib, scikit-learn, imbalanced-learn, imblearn\n",
      "  Found existing installation: scikit-learn 0.19.1\n",
      "    Uninstalling scikit-learn-0.19.1:\n",
      "      Successfully uninstalled scikit-learn-0.19.1\n",
      "Successfully installed imbalanced-learn-0.4.3 imblearn-0.0 joblib-0.13.2 scikit-learn-0.21.2\n"
     ]
    }
   ],
   "source": [
    "!pip install imblearn"
   ]
  },
  {
   "cell_type": "code",
   "execution_count": 28,
   "metadata": {},
   "outputs": [],
   "source": [
    "from imblearn.over_sampling import SMOTE\n",
    "\n",
    "smt = SMOTE()\n",
    "X_train_imp_smt, y_train_smt = smt.fit_sample(X_train_imp, y_train)"
   ]
  },
  {
   "cell_type": "code",
   "execution_count": 29,
   "metadata": {},
   "outputs": [
    {
     "data": {
      "image/png": "[encoded data removed]",
      "text/plain": [
       "<matplotlib.figure.Figure at 0x7f3c057579e8>"
      ]
     },
     "metadata": {},
     "output_type": "display_data"
    }
   ],
   "source": [
    "plt.subplot(1,2,1)\n",
    "plt.hist(y_train)\n",
    "plt.title('y_train')\n",
    "plt.subplot(1,2,2)\n",
    "plt.hist(y_train_smt)\n",
    "plt.title('y_train_smt')\n",
    "plt.tight_layout();"
   ]
  },
  {
   "cell_type": "code",
   "execution_count": 30,
   "metadata": {},
   "outputs": [
    {
     "name": "stdout",
     "output_type": "stream",
     "text": [
      "Nearest Neighbors train AUC: 0.8556838365896979\n",
      "Nearest Neighbors test AUC: 0.49588616131642843\n",
      "\n",
      "Decision Tree train AUC: 1.0\n",
      "Decision Tree test AUC: 0.4950094415969786\n",
      "\n",
      "Random Forest train AUC: 0.9991119005328597\n",
      "Random Forest test AUC: 0.49851632047477745\n",
      "\n",
      "Neural Net train AUC: 0.8197158081705151\n",
      "Neural Net test AUC: 0.4691799298624224\n",
      "\n",
      "AdaBoost train AUC: 0.9791296625222026\n",
      "AdaBoost test AUC: 0.5078904774750471\n",
      "\n",
      "Gradient Boosting train AUC: 1.0\n",
      "Gradient Boosting test AUC: 0.4970326409495549\n",
      "\n",
      "Naive Bayes train AUC: 0.6452042628774424\n",
      "Naive Bayes test AUC: 0.6238872403560831\n",
      "\n",
      "QDA train AUC: 1.0\n",
      "QDA test AUC: 0.5\n",
      "\n"
     ]
    }
   ],
   "source": [
    "classifier_comparison(X_train_imp_smt, y_train_smt, X_test_imp, y_test)"
   ]
  },
  {
   "cell_type": "code",
   "execution_count": null,
   "metadata": {},
   "outputs": [],
   "source": []
  },
  {
   "cell_type": "code",
   "execution_count": null,
   "metadata": {},
   "outputs": [],
   "source": [
    "#PCA"
   ]
  },
  {
   "cell_type": "code",
   "execution_count": 31,
   "metadata": {},
   "outputs": [],
   "source": [
    "from sklearn.decomposition import PCA"
   ]
  },
  {
   "cell_type": "code",
   "execution_count": 32,
   "metadata": {},
   "outputs": [
    {
     "name": "stdout",
     "output_type": "stream",
     "text": [
      "[0.57427138 0.25201396 0.09608772 0.0263604  0.01679814 0.00590311]\n"
     ]
    }
   ],
   "source": [
    "pca = PCA(n_components=0.97)\n",
    "pca.fit(X_train_imp)  \n",
    "\n",
    "print(pca.explained_variance_ratio_)  "
   ]
  },
  {
   "cell_type": "code",
   "execution_count": 33,
   "metadata": {},
   "outputs": [
    {
     "name": "stdout",
     "output_type": "stream",
     "text": [
      "Nearest Neighbors train AUC: 0.5361413161200884\n",
      "Nearest Neighbors test AUC: 0.49851632047477745\n",
      "\n",
      "Decision Tree train AUC: 1.0\n",
      "Decision Tree test AUC: 0.4737658483949285\n",
      "\n",
      "Random Forest train AUC: 0.8841463414634146\n",
      "Random Forest test AUC: 0.5\n",
      "\n",
      "Neural Net train AUC: 0.5162782134038038\n",
      "Neural Net test AUC: 0.5108578365254923\n",
      "\n",
      "AdaBoost train AUC: 0.559199410821817\n",
      "AdaBoost test AUC: 0.5\n",
      "\n",
      "Gradient Boosting train AUC: 0.6768292682926829\n",
      "Gradient Boosting test AUC: 0.5\n",
      "\n",
      "Naive Bayes train AUC: 0.5363470952649136\n",
      "Naive Bayes test AUC: 0.49851632047477745\n",
      "\n",
      "QDA train AUC: 0.5363470952649136\n",
      "QDA test AUC: 0.49851632047477745\n",
      "\n"
     ]
    }
   ],
   "source": [
    "X_train_imp_pca = pca.transform(X_train_imp)\n",
    "X_test_imp_pca = pca.transform(X_test_imp)\n",
    "classifier_comparison(X_train_imp_pca, y_train, X_test_imp_pca, y_test)"
   ]
  },
  {
   "cell_type": "code",
   "execution_count": 34,
   "metadata": {},
   "outputs": [
    {
     "name": "stdout",
     "output_type": "stream",
     "text": [
      "[0.57594384 0.22948156 0.08717974 0.05187176 0.01909646 0.00644905]\n"
     ]
    }
   ],
   "source": [
    "pca_smt = PCA(n_components=0.97)\n",
    "pca_smt.fit(X_train_imp_smt)  \n",
    "\n",
    "print(pca_smt.explained_variance_ratio_)  "
   ]
  },
  {
   "cell_type": "code",
   "execution_count": 35,
   "metadata": {},
   "outputs": [
    {
     "name": "stdout",
     "output_type": "stream",
     "text": [
      "Nearest Neighbors train AUC: 0.8872113676731794\n",
      "Nearest Neighbors test AUC: 0.5403965470731049\n",
      "\n",
      "Decision Tree train AUC: 1.0\n",
      "Decision Tree test AUC: 0.5957647693552739\n",
      "\n",
      "Random Forest train AUC: 0.9955595026642985\n",
      "Random Forest test AUC: 0.5360129484758566\n",
      "\n",
      "Neural Net train AUC: 0.6962699822380106\n",
      "Neural Net test AUC: 0.4929862422444025\n",
      "\n",
      "AdaBoost train AUC: 0.7286856127886323\n",
      "AdaBoost test AUC: 0.5012139196115457\n",
      "\n",
      "Gradient Boosting train AUC: 0.8512433392539964\n",
      "Gradient Boosting test AUC: 0.4632452117615322\n",
      "\n",
      "Naive Bayes train AUC: 0.5843694493783305\n",
      "Naive Bayes test AUC: 0.34751820879417317\n",
      "\n",
      "QDA train AUC: 0.5910301953818827\n",
      "QDA test AUC: 0.326274615592123\n",
      "\n"
     ]
    }
   ],
   "source": [
    "X_train_imp_smt_pca = pca_smt.transform(X_train_imp_smt)\n",
    "X_test_imp_pca = pca_smt.transform(X_test_imp)\n",
    "classifier_comparison(X_train_imp_smt_pca, y_train_smt, X_test_imp_pca, y_test)"
   ]
  },
  {
   "cell_type": "code",
   "execution_count": 38,
   "metadata": {},
   "outputs": [],
   "source": [
    "from sklearn.model_selection import GridSearchCV"
   ]
  },
  {
   "cell_type": "code",
   "execution_count": 37,
   "metadata": {},
   "outputs": [
    {
     "name": "stdout",
     "output_type": "stream",
     "text": [
      "Random Forest train AUC: 0.9986678507992895\n",
      "Random Forest test AUC: 0.5330455894254115\n",
      "\n"
     ]
    }
   ],
   "source": [
    "name = 'Random Forest'\n",
    "clf = RandomForestClassifier()\n",
    "clf.fit(X_train_imp_smt_pca, y_train_smt)\n",
    "y_pred = clf.predict(X_train_imp_smt_pca)\n",
    "fpr, tpr, thresholds = metrics.roc_curve(y_train_smt, y_pred)\n",
    "print('{} train AUC: {}'.format(name, metrics.auc(fpr, tpr)))\n",
    "y_pred = clf.predict(X_test_imp_pca)\n",
    "fpr, tpr, thresholds = metrics.roc_curve(y_test, y_pred)\n",
    "print('{} test AUC: {}\\n'.format(name, metrics.auc(fpr, tpr)))"
   ]
  },
  {
   "cell_type": "code",
   "execution_count": 50,
   "metadata": {},
   "outputs": [],
   "source": [
    "param_grid = {\n",
    "  \"n_estimators\": [10, 100],\n",
    "  \"max_depth\": [3, 5],\n",
    "  \"max_features\": [0.5, 0.8],\n",
    "  \"min_samples_split\": [2, 3, 10],\n",
    "  \"bootstrap\": [True, False],\n",
    "  \"criterion\": [\"gini\", \"entropy\"]}\n",
    "# run grid search\n",
    "grid_search = GridSearchCV(clf, param_grid=param_grid, cv=5).fit(X_train_imp_smt_pca, y_train_smt)"
   ]
  },
  {
   "cell_type": "code",
   "execution_count": 51,
   "metadata": {},
   "outputs": [
    {
     "name": "stdout",
     "output_type": "stream",
     "text": [
      "Random Forest train AUC: 0.7437833037300177\n",
      "Random Forest test AUC: 0.3925006743997842\n",
      "\n"
     ]
    }
   ],
   "source": [
    "y_pred = grid_search.predict(X_train_imp_smt_pca)\n",
    "fpr, tpr, thresholds = metrics.roc_curve(y_train_smt, y_pred)\n",
    "print('{} train AUC: {}'.format(name, metrics.auc(fpr, tpr)))\n",
    "y_pred = grid_search.predict(X_test_imp_pca)\n",
    "fpr, tpr, thresholds = metrics.roc_curve(y_test, y_pred)\n",
    "print('{} test AUC: {}\\n'.format(name, metrics.auc(fpr, tpr)))"
   ]
  },
  {
   "cell_type": "code",
   "execution_count": null,
   "metadata": {},
   "outputs": [],
   "source": [
    "# Looks like no good model"
   ]
  }
 ],
 "metadata": {
  "kernelspec": {
   "display_name": "Python 3",
   "language": "python",
   "name": "python3"
  },
  "language_info": {
   "codemirror_mode": {
    "name": "ipython",
    "version": 3
   },
   "file_extension": ".py",
   "mimetype": "text/x-python",
   "name": "python",
   "nbconvert_exporter": "python",
   "pygments_lexer": "ipython3",
   "version": "3.5.6"
  }
 },
 "nbformat": 4,
 "nbformat_minor": 2
}
