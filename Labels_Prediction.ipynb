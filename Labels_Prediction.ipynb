{
 "cells": [
  {
   "cell_type": "code",
   "execution_count": 1,
   "metadata": {},
   "outputs": [],
   "source": [
    "import pandas as pd\n",
    "import numpy as np\n",
    "import seaborn as sns\n",
    "import matplotlib.pyplot as plt\n",
    "%matplotlib inline\n",
    "\n",
    "import warnings\n",
    "warnings.filterwarnings(\"ignore\")"
   ]
  },
  {
   "cell_type": "code",
   "execution_count": 2,
   "metadata": {},
   "outputs": [],
   "source": [
    "# Labels"
   ]
  },
  {
   "cell_type": "code",
   "execution_count": 3,
   "metadata": {},
   "outputs": [
    {
     "name": "stdout",
     "output_type": "stream",
     "text": [
      "labels_df shape = (1567, 2)\n"
     ]
    },
    {
     "data": {
      "text/html": [
       "<div>\n",
       "<style scoped>\n",
       "    .dataframe tbody tr th:only-of-type {\n",
       "        vertical-align: middle;\n",
       "    }\n",
       "\n",
       "    .dataframe tbody tr th {\n",
       "        vertical-align: top;\n",
       "    }\n",
       "\n",
       "    .dataframe thead th {\n",
       "        text-align: right;\n",
       "    }\n",
       "</style>\n",
       "<table border=\"1\" class=\"dataframe\">\n",
       "  <thead>\n",
       "    <tr style=\"text-align: right;\">\n",
       "      <th></th>\n",
       "      <th>Label</th>\n",
       "      <th>Date</th>\n",
       "    </tr>\n",
       "  </thead>\n",
       "  <tbody>\n",
       "    <tr>\n",
       "      <th>0</th>\n",
       "      <td>-1</td>\n",
       "      <td>2008-07-19 11:55:00</td>\n",
       "    </tr>\n",
       "    <tr>\n",
       "      <th>1</th>\n",
       "      <td>-1</td>\n",
       "      <td>2008-07-19 12:32:00</td>\n",
       "    </tr>\n",
       "    <tr>\n",
       "      <th>2</th>\n",
       "      <td>1</td>\n",
       "      <td>2008-07-19 13:17:00</td>\n",
       "    </tr>\n",
       "    <tr>\n",
       "      <th>3</th>\n",
       "      <td>-1</td>\n",
       "      <td>2008-07-19 14:43:00</td>\n",
       "    </tr>\n",
       "    <tr>\n",
       "      <th>4</th>\n",
       "      <td>-1</td>\n",
       "      <td>2008-07-19 15:22:00</td>\n",
       "    </tr>\n",
       "  </tbody>\n",
       "</table>\n",
       "</div>"
      ],
      "text/plain": [
       "   Label                Date\n",
       "0     -1 2008-07-19 11:55:00\n",
       "1     -1 2008-07-19 12:32:00\n",
       "2      1 2008-07-19 13:17:00\n",
       "3     -1 2008-07-19 14:43:00\n",
       "4     -1 2008-07-19 15:22:00"
      ]
     },
     "execution_count": 3,
     "metadata": {},
     "output_type": "execute_result"
    }
   ],
   "source": [
    "labels_df = pd.read_csv('data/secom_labels.data', sep=' ', header = None)\n",
    "labels_df.columns = ['Label', 'Date']\n",
    "labels_df['Date'] = pd.to_datetime(labels_df['Date'], format = \"%d/%m/%Y %H:%M:%S\")\n",
    "print('labels_df shape = {}'.format(labels_df.shape))\n",
    "labels_df.head()"
   ]
  },
  {
   "cell_type": "code",
   "execution_count": 4,
   "metadata": {},
   "outputs": [
    {
     "data": {
      "text/plain": [
       "<matplotlib.axes._subplots.AxesSubplot at 0x2903696ef28>"
      ]
     },
     "execution_count": 4,
     "metadata": {},
     "output_type": "execute_result"
    },
    {
     "data": {
      "image/png": "[encoded data removed]",
      "text/plain": [
       "<Figure size 432x288 with 1 Axes>"
      ]
     },
     "metadata": {
      "needs_background": "light"
     },
     "output_type": "display_data"
    }
   ],
   "source": [
    "labels_df['Label'] = labels_df['Label'].apply(lambda x: 0 if x == -1 else 1)\n",
    "labels_df['Label'].hist()"
   ]
  },
  {
   "cell_type": "code",
   "execution_count": 5,
   "metadata": {},
   "outputs": [
    {
     "data": {
      "text/html": [
       "<div>\n",
       "<style scoped>\n",
       "    .dataframe tbody tr th:only-of-type {\n",
       "        vertical-align: middle;\n",
       "    }\n",
       "\n",
       "    .dataframe tbody tr th {\n",
       "        vertical-align: top;\n",
       "    }\n",
       "\n",
       "    .dataframe thead th {\n",
       "        text-align: right;\n",
       "    }\n",
       "</style>\n",
       "<table border=\"1\" class=\"dataframe\">\n",
       "  <thead>\n",
       "    <tr style=\"text-align: right;\">\n",
       "      <th></th>\n",
       "      <th>Date</th>\n",
       "      <th>Sum</th>\n",
       "      <th>Count</th>\n",
       "    </tr>\n",
       "  </thead>\n",
       "  <tbody>\n",
       "    <tr>\n",
       "      <th>0</th>\n",
       "      <td>2008-07-19</td>\n",
       "      <td>3</td>\n",
       "      <td>12</td>\n",
       "    </tr>\n",
       "    <tr>\n",
       "      <th>1</th>\n",
       "      <td>2008-07-20</td>\n",
       "      <td>0</td>\n",
       "      <td>1</td>\n",
       "    </tr>\n",
       "    <tr>\n",
       "      <th>2</th>\n",
       "      <td>2008-07-21</td>\n",
       "      <td>1</td>\n",
       "      <td>2</td>\n",
       "    </tr>\n",
       "    <tr>\n",
       "      <th>3</th>\n",
       "      <td>2008-07-22</td>\n",
       "      <td>0</td>\n",
       "      <td>6</td>\n",
       "    </tr>\n",
       "    <tr>\n",
       "      <th>4</th>\n",
       "      <td>2008-07-23</td>\n",
       "      <td>0</td>\n",
       "      <td>2</td>\n",
       "    </tr>\n",
       "  </tbody>\n",
       "</table>\n",
       "</div>"
      ],
      "text/plain": [
       "        Date  Sum  Count\n",
       "0 2008-07-19    3     12\n",
       "1 2008-07-20    0      1\n",
       "2 2008-07-21    1      2\n",
       "3 2008-07-22    0      6\n",
       "4 2008-07-23    0      2"
      ]
     },
     "execution_count": 5,
     "metadata": {},
     "output_type": "execute_result"
    }
   ],
   "source": [
    "label_sum = labels_df['Label'].groupby(labels_df['Date'].dt.date).sum().reset_index()\n",
    "label_count = labels_df['Label'].groupby(labels_df['Date'].dt.date).count().reset_index()\n",
    "label_day = pd.merge(label_sum, label_count, on='Date')\n",
    "label_day.columns = ['Date', 'Sum', 'Count']\n",
    "label_day['Date'] = pd.to_datetime(label_day['Date'])\n",
    "label_day.head()"
   ]
  },
  {
   "cell_type": "code",
   "execution_count": 6,
   "metadata": {
    "scrolled": false
   },
   "outputs": [
    {
     "data": {
      "image/png": "[encoded data removed]",
      "text/plain": [
       "<Figure size 1080x504 with 2 Axes>"
      ]
     },
     "metadata": {
      "needs_background": "light"
     },
     "output_type": "display_data"
    }
   ],
   "source": [
    "# Create a figure with shared X axis\n",
    "fig, axs = plt.subplots(2, 1, sharex=True, figsize = (15,7))\n",
    "\n",
    "# Remove horizontal space between axes\n",
    "fig.subplots_adjust(hspace=0)\n",
    "\n",
    "# Set the width of the bars to be 1 day\n",
    "#width = np.timedelta64(1, 'D')\n",
    "\n",
    "# Plot the Sum of fails per day and count of entries per day\n",
    "axs[0].bar(label_day['Date'], label_day['Sum'], color = 'red')\n",
    "axs[1].bar(label_day['Date'], label_day['Count'], color = 'blue')\n",
    "axs[0].set_ylabel('Total Fails per day')\n",
    "axs[1].set_ylabel('Total Count of data per day')\n",
    "axs[1].set_xlabel('Date');"
   ]
  },
  {
   "cell_type": "code",
   "execution_count": 7,
   "metadata": {},
   "outputs": [],
   "source": [
    "# Data"
   ]
  },
  {
   "cell_type": "code",
   "execution_count": 8,
   "metadata": {},
   "outputs": [
    {
     "name": "stdout",
     "output_type": "stream",
     "text": [
      "data_df shape = (1567, 590)\n"
     ]
    },
    {
     "data": {
      "text/html": [
       "<div>\n",
       "<style scoped>\n",
       "    .dataframe tbody tr th:only-of-type {\n",
       "        vertical-align: middle;\n",
       "    }\n",
       "\n",
       "    .dataframe tbody tr th {\n",
       "        vertical-align: top;\n",
       "    }\n",
       "\n",
       "    .dataframe thead th {\n",
       "        text-align: right;\n",
       "    }\n",
       "</style>\n",
       "<table border=\"1\" class=\"dataframe\">\n",
       "  <thead>\n",
       "    <tr style=\"text-align: right;\">\n",
       "      <th></th>\n",
       "      <th>x_0</th>\n",
       "      <th>x_1</th>\n",
       "      <th>x_2</th>\n",
       "      <th>x_3</th>\n",
       "      <th>x_4</th>\n",
       "      <th>x_5</th>\n",
       "      <th>x_6</th>\n",
       "      <th>x_7</th>\n",
       "      <th>x_8</th>\n",
       "      <th>x_9</th>\n",
       "      <th>...</th>\n",
       "      <th>x_580</th>\n",
       "      <th>x_581</th>\n",
       "      <th>x_582</th>\n",
       "      <th>x_583</th>\n",
       "      <th>x_584</th>\n",
       "      <th>x_585</th>\n",
       "      <th>x_586</th>\n",
       "      <th>x_587</th>\n",
       "      <th>x_588</th>\n",
       "      <th>x_589</th>\n",
       "    </tr>\n",
       "  </thead>\n",
       "  <tbody>\n",
       "    <tr>\n",
       "      <th>0</th>\n",
       "      <td>3030.93</td>\n",
       "      <td>2564.00</td>\n",
       "      <td>2187.7333</td>\n",
       "      <td>1411.1265</td>\n",
       "      <td>1.3602</td>\n",
       "      <td>100.0</td>\n",
       "      <td>97.6133</td>\n",
       "      <td>0.1242</td>\n",
       "      <td>1.5005</td>\n",
       "      <td>0.0162</td>\n",
       "      <td>...</td>\n",
       "      <td>NaN</td>\n",
       "      <td>NaN</td>\n",
       "      <td>0.5005</td>\n",
       "      <td>0.0118</td>\n",
       "      <td>0.0035</td>\n",
       "      <td>2.3630</td>\n",
       "      <td>NaN</td>\n",
       "      <td>NaN</td>\n",
       "      <td>NaN</td>\n",
       "      <td>NaN</td>\n",
       "    </tr>\n",
       "    <tr>\n",
       "      <th>1</th>\n",
       "      <td>3095.78</td>\n",
       "      <td>2465.14</td>\n",
       "      <td>2230.4222</td>\n",
       "      <td>1463.6606</td>\n",
       "      <td>0.8294</td>\n",
       "      <td>100.0</td>\n",
       "      <td>102.3433</td>\n",
       "      <td>0.1247</td>\n",
       "      <td>1.4966</td>\n",
       "      <td>-0.0005</td>\n",
       "      <td>...</td>\n",
       "      <td>0.0060</td>\n",
       "      <td>208.2045</td>\n",
       "      <td>0.5019</td>\n",
       "      <td>0.0223</td>\n",
       "      <td>0.0055</td>\n",
       "      <td>4.4447</td>\n",
       "      <td>0.0096</td>\n",
       "      <td>0.0201</td>\n",
       "      <td>0.0060</td>\n",
       "      <td>208.2045</td>\n",
       "    </tr>\n",
       "    <tr>\n",
       "      <th>2</th>\n",
       "      <td>2932.61</td>\n",
       "      <td>2559.94</td>\n",
       "      <td>2186.4111</td>\n",
       "      <td>1698.0172</td>\n",
       "      <td>1.5102</td>\n",
       "      <td>100.0</td>\n",
       "      <td>95.4878</td>\n",
       "      <td>0.1241</td>\n",
       "      <td>1.4436</td>\n",
       "      <td>0.0041</td>\n",
       "      <td>...</td>\n",
       "      <td>0.0148</td>\n",
       "      <td>82.8602</td>\n",
       "      <td>0.4958</td>\n",
       "      <td>0.0157</td>\n",
       "      <td>0.0039</td>\n",
       "      <td>3.1745</td>\n",
       "      <td>0.0584</td>\n",
       "      <td>0.0484</td>\n",
       "      <td>0.0148</td>\n",
       "      <td>82.8602</td>\n",
       "    </tr>\n",
       "    <tr>\n",
       "      <th>3</th>\n",
       "      <td>2988.72</td>\n",
       "      <td>2479.90</td>\n",
       "      <td>2199.0333</td>\n",
       "      <td>909.7926</td>\n",
       "      <td>1.3204</td>\n",
       "      <td>100.0</td>\n",
       "      <td>104.2367</td>\n",
       "      <td>0.1217</td>\n",
       "      <td>1.4882</td>\n",
       "      <td>-0.0124</td>\n",
       "      <td>...</td>\n",
       "      <td>0.0044</td>\n",
       "      <td>73.8432</td>\n",
       "      <td>0.4990</td>\n",
       "      <td>0.0103</td>\n",
       "      <td>0.0025</td>\n",
       "      <td>2.0544</td>\n",
       "      <td>0.0202</td>\n",
       "      <td>0.0149</td>\n",
       "      <td>0.0044</td>\n",
       "      <td>73.8432</td>\n",
       "    </tr>\n",
       "    <tr>\n",
       "      <th>4</th>\n",
       "      <td>3032.24</td>\n",
       "      <td>2502.87</td>\n",
       "      <td>2233.3667</td>\n",
       "      <td>1326.5200</td>\n",
       "      <td>1.5334</td>\n",
       "      <td>100.0</td>\n",
       "      <td>100.3967</td>\n",
       "      <td>0.1235</td>\n",
       "      <td>1.5031</td>\n",
       "      <td>-0.0031</td>\n",
       "      <td>...</td>\n",
       "      <td>NaN</td>\n",
       "      <td>NaN</td>\n",
       "      <td>0.4800</td>\n",
       "      <td>0.4766</td>\n",
       "      <td>0.1045</td>\n",
       "      <td>99.3032</td>\n",
       "      <td>0.0202</td>\n",
       "      <td>0.0149</td>\n",
       "      <td>0.0044</td>\n",
       "      <td>73.8432</td>\n",
       "    </tr>\n",
       "  </tbody>\n",
       "</table>\n",
       "<p>5 rows × 590 columns</p>\n",
       "</div>"
      ],
      "text/plain": [
       "       x_0      x_1        x_2        x_3     x_4    x_5       x_6     x_7  \\\n",
       "0  3030.93  2564.00  2187.7333  1411.1265  1.3602  100.0   97.6133  0.1242   \n",
       "1  3095.78  2465.14  2230.4222  1463.6606  0.8294  100.0  102.3433  0.1247   \n",
       "2  2932.61  2559.94  2186.4111  1698.0172  1.5102  100.0   95.4878  0.1241   \n",
       "3  2988.72  2479.90  2199.0333   909.7926  1.3204  100.0  104.2367  0.1217   \n",
       "4  3032.24  2502.87  2233.3667  1326.5200  1.5334  100.0  100.3967  0.1235   \n",
       "\n",
       "      x_8     x_9  ...   x_580     x_581   x_582   x_583   x_584    x_585  \\\n",
       "0  1.5005  0.0162  ...     NaN       NaN  0.5005  0.0118  0.0035   2.3630   \n",
       "1  1.4966 -0.0005  ...  0.0060  208.2045  0.5019  0.0223  0.0055   4.4447   \n",
       "2  1.4436  0.0041  ...  0.0148   82.8602  0.4958  0.0157  0.0039   3.1745   \n",
       "3  1.4882 -0.0124  ...  0.0044   73.8432  0.4990  0.0103  0.0025   2.0544   \n",
       "4  1.5031 -0.0031  ...     NaN       NaN  0.4800  0.4766  0.1045  99.3032   \n",
       "\n",
       "    x_586   x_587   x_588     x_589  \n",
       "0     NaN     NaN     NaN       NaN  \n",
       "1  0.0096  0.0201  0.0060  208.2045  \n",
       "2  0.0584  0.0484  0.0148   82.8602  \n",
       "3  0.0202  0.0149  0.0044   73.8432  \n",
       "4  0.0202  0.0149  0.0044   73.8432  \n",
       "\n",
       "[5 rows x 590 columns]"
      ]
     },
     "execution_count": 8,
     "metadata": {},
     "output_type": "execute_result"
    }
   ],
   "source": [
    "data_df = pd.read_csv('data/secom.data', sep=' ', header = None)\n",
    "print('data_df shape = {}'.format(data_df.shape))\n",
    "data_df.columns = ['x_{}'.format(i) for i in range (0,590)]\n",
    "data_df.head()"
   ]
  },
  {
   "cell_type": "code",
   "execution_count": 9,
   "metadata": {},
   "outputs": [],
   "source": [
    "# Merging Data and Labels"
   ]
  },
  {
   "cell_type": "code",
   "execution_count": 10,
   "metadata": {},
   "outputs": [
    {
     "name": "stdout",
     "output_type": "stream",
     "text": [
      "(1567, 592)\n"
     ]
    },
    {
     "data": {
      "text/html": [
       "<div>\n",
       "<style scoped>\n",
       "    .dataframe tbody tr th:only-of-type {\n",
       "        vertical-align: middle;\n",
       "    }\n",
       "\n",
       "    .dataframe tbody tr th {\n",
       "        vertical-align: top;\n",
       "    }\n",
       "\n",
       "    .dataframe thead th {\n",
       "        text-align: right;\n",
       "    }\n",
       "</style>\n",
       "<table border=\"1\" class=\"dataframe\">\n",
       "  <thead>\n",
       "    <tr style=\"text-align: right;\">\n",
       "      <th></th>\n",
       "      <th>x_0</th>\n",
       "      <th>x_1</th>\n",
       "      <th>x_2</th>\n",
       "      <th>x_3</th>\n",
       "      <th>x_4</th>\n",
       "      <th>x_5</th>\n",
       "      <th>x_6</th>\n",
       "      <th>x_7</th>\n",
       "      <th>x_8</th>\n",
       "      <th>x_9</th>\n",
       "      <th>...</th>\n",
       "      <th>x_582</th>\n",
       "      <th>x_583</th>\n",
       "      <th>x_584</th>\n",
       "      <th>x_585</th>\n",
       "      <th>x_586</th>\n",
       "      <th>x_587</th>\n",
       "      <th>x_588</th>\n",
       "      <th>x_589</th>\n",
       "      <th>Label</th>\n",
       "      <th>Date</th>\n",
       "    </tr>\n",
       "  </thead>\n",
       "  <tbody>\n",
       "    <tr>\n",
       "      <th>0</th>\n",
       "      <td>3030.93</td>\n",
       "      <td>2564.00</td>\n",
       "      <td>2187.7333</td>\n",
       "      <td>1411.1265</td>\n",
       "      <td>1.3602</td>\n",
       "      <td>100.0</td>\n",
       "      <td>97.6133</td>\n",
       "      <td>0.1242</td>\n",
       "      <td>1.5005</td>\n",
       "      <td>0.0162</td>\n",
       "      <td>...</td>\n",
       "      <td>0.5005</td>\n",
       "      <td>0.0118</td>\n",
       "      <td>0.0035</td>\n",
       "      <td>2.3630</td>\n",
       "      <td>NaN</td>\n",
       "      <td>NaN</td>\n",
       "      <td>NaN</td>\n",
       "      <td>NaN</td>\n",
       "      <td>0</td>\n",
       "      <td>2008-07-19 11:55:00</td>\n",
       "    </tr>\n",
       "    <tr>\n",
       "      <th>1</th>\n",
       "      <td>3095.78</td>\n",
       "      <td>2465.14</td>\n",
       "      <td>2230.4222</td>\n",
       "      <td>1463.6606</td>\n",
       "      <td>0.8294</td>\n",
       "      <td>100.0</td>\n",
       "      <td>102.3433</td>\n",
       "      <td>0.1247</td>\n",
       "      <td>1.4966</td>\n",
       "      <td>-0.0005</td>\n",
       "      <td>...</td>\n",
       "      <td>0.5019</td>\n",
       "      <td>0.0223</td>\n",
       "      <td>0.0055</td>\n",
       "      <td>4.4447</td>\n",
       "      <td>0.0096</td>\n",
       "      <td>0.0201</td>\n",
       "      <td>0.0060</td>\n",
       "      <td>208.2045</td>\n",
       "      <td>0</td>\n",
       "      <td>2008-07-19 12:32:00</td>\n",
       "    </tr>\n",
       "    <tr>\n",
       "      <th>2</th>\n",
       "      <td>2932.61</td>\n",
       "      <td>2559.94</td>\n",
       "      <td>2186.4111</td>\n",
       "      <td>1698.0172</td>\n",
       "      <td>1.5102</td>\n",
       "      <td>100.0</td>\n",
       "      <td>95.4878</td>\n",
       "      <td>0.1241</td>\n",
       "      <td>1.4436</td>\n",
       "      <td>0.0041</td>\n",
       "      <td>...</td>\n",
       "      <td>0.4958</td>\n",
       "      <td>0.0157</td>\n",
       "      <td>0.0039</td>\n",
       "      <td>3.1745</td>\n",
       "      <td>0.0584</td>\n",
       "      <td>0.0484</td>\n",
       "      <td>0.0148</td>\n",
       "      <td>82.8602</td>\n",
       "      <td>1</td>\n",
       "      <td>2008-07-19 13:17:00</td>\n",
       "    </tr>\n",
       "    <tr>\n",
       "      <th>3</th>\n",
       "      <td>2988.72</td>\n",
       "      <td>2479.90</td>\n",
       "      <td>2199.0333</td>\n",
       "      <td>909.7926</td>\n",
       "      <td>1.3204</td>\n",
       "      <td>100.0</td>\n",
       "      <td>104.2367</td>\n",
       "      <td>0.1217</td>\n",
       "      <td>1.4882</td>\n",
       "      <td>-0.0124</td>\n",
       "      <td>...</td>\n",
       "      <td>0.4990</td>\n",
       "      <td>0.0103</td>\n",
       "      <td>0.0025</td>\n",
       "      <td>2.0544</td>\n",
       "      <td>0.0202</td>\n",
       "      <td>0.0149</td>\n",
       "      <td>0.0044</td>\n",
       "      <td>73.8432</td>\n",
       "      <td>0</td>\n",
       "      <td>2008-07-19 14:43:00</td>\n",
       "    </tr>\n",
       "    <tr>\n",
       "      <th>4</th>\n",
       "      <td>3032.24</td>\n",
       "      <td>2502.87</td>\n",
       "      <td>2233.3667</td>\n",
       "      <td>1326.5200</td>\n",
       "      <td>1.5334</td>\n",
       "      <td>100.0</td>\n",
       "      <td>100.3967</td>\n",
       "      <td>0.1235</td>\n",
       "      <td>1.5031</td>\n",
       "      <td>-0.0031</td>\n",
       "      <td>...</td>\n",
       "      <td>0.4800</td>\n",
       "      <td>0.4766</td>\n",
       "      <td>0.1045</td>\n",
       "      <td>99.3032</td>\n",
       "      <td>0.0202</td>\n",
       "      <td>0.0149</td>\n",
       "      <td>0.0044</td>\n",
       "      <td>73.8432</td>\n",
       "      <td>0</td>\n",
       "      <td>2008-07-19 15:22:00</td>\n",
       "    </tr>\n",
       "  </tbody>\n",
       "</table>\n",
       "<p>5 rows × 592 columns</p>\n",
       "</div>"
      ],
      "text/plain": [
       "       x_0      x_1        x_2        x_3     x_4    x_5       x_6     x_7  \\\n",
       "0  3030.93  2564.00  2187.7333  1411.1265  1.3602  100.0   97.6133  0.1242   \n",
       "1  3095.78  2465.14  2230.4222  1463.6606  0.8294  100.0  102.3433  0.1247   \n",
       "2  2932.61  2559.94  2186.4111  1698.0172  1.5102  100.0   95.4878  0.1241   \n",
       "3  2988.72  2479.90  2199.0333   909.7926  1.3204  100.0  104.2367  0.1217   \n",
       "4  3032.24  2502.87  2233.3667  1326.5200  1.5334  100.0  100.3967  0.1235   \n",
       "\n",
       "      x_8     x_9  ...   x_582   x_583   x_584    x_585   x_586   x_587  \\\n",
       "0  1.5005  0.0162  ...  0.5005  0.0118  0.0035   2.3630     NaN     NaN   \n",
       "1  1.4966 -0.0005  ...  0.5019  0.0223  0.0055   4.4447  0.0096  0.0201   \n",
       "2  1.4436  0.0041  ...  0.4958  0.0157  0.0039   3.1745  0.0584  0.0484   \n",
       "3  1.4882 -0.0124  ...  0.4990  0.0103  0.0025   2.0544  0.0202  0.0149   \n",
       "4  1.5031 -0.0031  ...  0.4800  0.4766  0.1045  99.3032  0.0202  0.0149   \n",
       "\n",
       "    x_588     x_589  Label                Date  \n",
       "0     NaN       NaN      0 2008-07-19 11:55:00  \n",
       "1  0.0060  208.2045      0 2008-07-19 12:32:00  \n",
       "2  0.0148   82.8602      1 2008-07-19 13:17:00  \n",
       "3  0.0044   73.8432      0 2008-07-19 14:43:00  \n",
       "4  0.0044   73.8432      0 2008-07-19 15:22:00  \n",
       "\n",
       "[5 rows x 592 columns]"
      ]
     },
     "execution_count": 10,
     "metadata": {},
     "output_type": "execute_result"
    }
   ],
   "source": [
    "merged_df = data_df.merge(labels_df, left_index=True, right_index=True)\n",
    "print(merged_df.shape)\n",
    "merged_df.head()"
   ]
  },
  {
   "cell_type": "code",
   "execution_count": 11,
   "metadata": {},
   "outputs": [],
   "source": [
    "# Split Train and Test based on date"
   ]
  },
  {
   "cell_type": "code",
   "execution_count": 12,
   "metadata": {},
   "outputs": [
    {
     "name": "stdout",
     "output_type": "stream",
     "text": [
      "train df shape: (1208, 592), test df shape: (359, 592)\n"
     ]
    }
   ],
   "source": [
    "split_date = '2008-10-01'\n",
    "train_df = merged_df[merged_df['Date'] < split_date]\n",
    "test_df = merged_df[merged_df['Date'] >= split_date]\n",
    "print('train df shape: {}, test df shape: {}'.format(train_df.shape, test_df.shape))"
   ]
  },
  {
   "cell_type": "markdown",
   "metadata": {},
   "source": [
    "Strategy\n",
    "1. Test for univariate correlation and remove those columns with no correlation to label (chi square)\n",
    "2. Find outliers using Isolation forest and add as a new feature\n",
    "3. Feature scaling\n",
    "4. Downsample 100 times and build a model each time.\n",
    "5. Final prediction is ensemble of all models"
   ]
  },
  {
   "cell_type": "code",
   "execution_count": 13,
   "metadata": {},
   "outputs": [],
   "source": [
    "# Train data univariate correlation\n",
    "from scipy.stats import pearsonr"
   ]
  },
  {
   "cell_type": "code",
   "execution_count": 14,
   "metadata": {},
   "outputs": [],
   "source": [
    "pearson_pvalues = []\n",
    "for col in train_df.columns[:-2]:\n",
    "    df_clean = train_df[[col, 'Label']].dropna()\n",
    "    pearson_corr, pearson_pvalue = pearsonr(df_clean[col], df_clean['Label'])\n",
    "    pearson_pvalues.append(pearson_pvalue)"
   ]
  },
  {
   "cell_type": "code",
   "execution_count": 15,
   "metadata": {},
   "outputs": [],
   "source": [
    "sig_colidx = [i for i, n in enumerate(pearson_pvalues) if n <= 0.05]\n",
    "sig_colidx.extend([-2, -1])"
   ]
  },
  {
   "cell_type": "code",
   "execution_count": 16,
   "metadata": {},
   "outputs": [
    {
     "name": "stdout",
     "output_type": "stream",
     "text": [
      "train df shape: (1208, 83), test df shape: (359, 83)\n"
     ]
    },
    {
     "data": {
      "text/html": [
       "<div>\n",
       "<style scoped>\n",
       "    .dataframe tbody tr th:only-of-type {\n",
       "        vertical-align: middle;\n",
       "    }\n",
       "\n",
       "    .dataframe tbody tr th {\n",
       "        vertical-align: top;\n",
       "    }\n",
       "\n",
       "    .dataframe thead th {\n",
       "        text-align: right;\n",
       "    }\n",
       "</style>\n",
       "<table border=\"1\" class=\"dataframe\">\n",
       "  <thead>\n",
       "    <tr style=\"text-align: right;\">\n",
       "      <th></th>\n",
       "      <th>x_0</th>\n",
       "      <th>x_14</th>\n",
       "      <th>x_21</th>\n",
       "      <th>x_22</th>\n",
       "      <th>x_26</th>\n",
       "      <th>x_28</th>\n",
       "      <th>x_30</th>\n",
       "      <th>x_33</th>\n",
       "      <th>x_59</th>\n",
       "      <th>x_63</th>\n",
       "      <th>...</th>\n",
       "      <th>x_551</th>\n",
       "      <th>x_553</th>\n",
       "      <th>x_554</th>\n",
       "      <th>x_556</th>\n",
       "      <th>x_557</th>\n",
       "      <th>x_562</th>\n",
       "      <th>x_587</th>\n",
       "      <th>x_588</th>\n",
       "      <th>Label</th>\n",
       "      <th>Date</th>\n",
       "    </tr>\n",
       "  </thead>\n",
       "  <tbody>\n",
       "    <tr>\n",
       "      <th>0</th>\n",
       "      <td>3030.93</td>\n",
       "      <td>7.9558</td>\n",
       "      <td>-5419.00</td>\n",
       "      <td>2916.50</td>\n",
       "      <td>1.7730</td>\n",
       "      <td>64.2333</td>\n",
       "      <td>0.1632</td>\n",
       "      <td>9.5126</td>\n",
       "      <td>-1.7264</td>\n",
       "      <td>16.1445</td>\n",
       "      <td>...</td>\n",
       "      <td>0.78</td>\n",
       "      <td>5.7349</td>\n",
       "      <td>0.3363</td>\n",
       "      <td>3.2687</td>\n",
       "      <td>1.0297</td>\n",
       "      <td>NaN</td>\n",
       "      <td>NaN</td>\n",
       "      <td>NaN</td>\n",
       "      <td>0</td>\n",
       "      <td>2008-07-19 11:55:00</td>\n",
       "    </tr>\n",
       "    <tr>\n",
       "      <th>1</th>\n",
       "      <td>3095.78</td>\n",
       "      <td>10.1548</td>\n",
       "      <td>-5441.50</td>\n",
       "      <td>2604.25</td>\n",
       "      <td>2.0143</td>\n",
       "      <td>68.4222</td>\n",
       "      <td>0.2102</td>\n",
       "      <td>9.7997</td>\n",
       "      <td>0.8073</td>\n",
       "      <td>10.9036</td>\n",
       "      <td>...</td>\n",
       "      <td>1.33</td>\n",
       "      <td>7.1196</td>\n",
       "      <td>0.4989</td>\n",
       "      <td>3.9139</td>\n",
       "      <td>1.7819</td>\n",
       "      <td>NaN</td>\n",
       "      <td>0.0201</td>\n",
       "      <td>0.0060</td>\n",
       "      <td>0</td>\n",
       "      <td>2008-07-19 12:32:00</td>\n",
       "    </tr>\n",
       "    <tr>\n",
       "      <th>2</th>\n",
       "      <td>2932.61</td>\n",
       "      <td>9.5157</td>\n",
       "      <td>-5447.75</td>\n",
       "      <td>2701.75</td>\n",
       "      <td>2.0295</td>\n",
       "      <td>67.1333</td>\n",
       "      <td>0.1734</td>\n",
       "      <td>8.6590</td>\n",
       "      <td>23.8245</td>\n",
       "      <td>11.3019</td>\n",
       "      <td>...</td>\n",
       "      <td>0.85</td>\n",
       "      <td>7.1619</td>\n",
       "      <td>0.3752</td>\n",
       "      <td>3.9306</td>\n",
       "      <td>1.1386</td>\n",
       "      <td>267.064</td>\n",
       "      <td>0.0484</td>\n",
       "      <td>0.0148</td>\n",
       "      <td>1</td>\n",
       "      <td>2008-07-19 13:17:00</td>\n",
       "    </tr>\n",
       "    <tr>\n",
       "      <th>3</th>\n",
       "      <td>2988.72</td>\n",
       "      <td>9.6052</td>\n",
       "      <td>-5468.25</td>\n",
       "      <td>2648.25</td>\n",
       "      <td>2.0038</td>\n",
       "      <td>62.9333</td>\n",
       "      <td>0.2071</td>\n",
       "      <td>8.6789</td>\n",
       "      <td>24.3791</td>\n",
       "      <td>13.5597</td>\n",
       "      <td>...</td>\n",
       "      <td>39.33</td>\n",
       "      <td>56.9303</td>\n",
       "      <td>17.4781</td>\n",
       "      <td>35.3198</td>\n",
       "      <td>54.2917</td>\n",
       "      <td>268.228</td>\n",
       "      <td>0.0149</td>\n",
       "      <td>0.0044</td>\n",
       "      <td>0</td>\n",
       "      <td>2008-07-19 14:43:00</td>\n",
       "    </tr>\n",
       "    <tr>\n",
       "      <th>4</th>\n",
       "      <td>3032.24</td>\n",
       "      <td>10.5661</td>\n",
       "      <td>-5476.25</td>\n",
       "      <td>2635.25</td>\n",
       "      <td>1.9912</td>\n",
       "      <td>62.8333</td>\n",
       "      <td>0.2696</td>\n",
       "      <td>8.7677</td>\n",
       "      <td>-12.2945</td>\n",
       "      <td>21.9782</td>\n",
       "      <td>...</td>\n",
       "      <td>1.98</td>\n",
       "      <td>9.7608</td>\n",
       "      <td>0.8311</td>\n",
       "      <td>4.9086</td>\n",
       "      <td>2.5014</td>\n",
       "      <td>NaN</td>\n",
       "      <td>0.0149</td>\n",
       "      <td>0.0044</td>\n",
       "      <td>0</td>\n",
       "      <td>2008-07-19 15:22:00</td>\n",
       "    </tr>\n",
       "  </tbody>\n",
       "</table>\n",
       "<p>5 rows × 83 columns</p>\n",
       "</div>"
      ],
      "text/plain": [
       "       x_0     x_14     x_21     x_22    x_26     x_28    x_30    x_33  \\\n",
       "0  3030.93   7.9558 -5419.00  2916.50  1.7730  64.2333  0.1632  9.5126   \n",
       "1  3095.78  10.1548 -5441.50  2604.25  2.0143  68.4222  0.2102  9.7997   \n",
       "2  2932.61   9.5157 -5447.75  2701.75  2.0295  67.1333  0.1734  8.6590   \n",
       "3  2988.72   9.6052 -5468.25  2648.25  2.0038  62.9333  0.2071  8.6789   \n",
       "4  3032.24  10.5661 -5476.25  2635.25  1.9912  62.8333  0.2696  8.7677   \n",
       "\n",
       "      x_59     x_63  ...  x_551    x_553    x_554    x_556    x_557    x_562  \\\n",
       "0  -1.7264  16.1445  ...   0.78   5.7349   0.3363   3.2687   1.0297      NaN   \n",
       "1   0.8073  10.9036  ...   1.33   7.1196   0.4989   3.9139   1.7819      NaN   \n",
       "2  23.8245  11.3019  ...   0.85   7.1619   0.3752   3.9306   1.1386  267.064   \n",
       "3  24.3791  13.5597  ...  39.33  56.9303  17.4781  35.3198  54.2917  268.228   \n",
       "4 -12.2945  21.9782  ...   1.98   9.7608   0.8311   4.9086   2.5014      NaN   \n",
       "\n",
       "    x_587   x_588  Label                Date  \n",
       "0     NaN     NaN      0 2008-07-19 11:55:00  \n",
       "1  0.0201  0.0060      0 2008-07-19 12:32:00  \n",
       "2  0.0484  0.0148      1 2008-07-19 13:17:00  \n",
       "3  0.0149  0.0044      0 2008-07-19 14:43:00  \n",
       "4  0.0149  0.0044      0 2008-07-19 15:22:00  \n",
       "\n",
       "[5 rows x 83 columns]"
      ]
     },
     "execution_count": 16,
     "metadata": {},
     "output_type": "execute_result"
    }
   ],
   "source": [
    "train_df_red_dim = train_df.iloc[:, sig_colidx]\n",
    "test_df_red_dim = test_df.iloc[:, sig_colidx]\n",
    "print('train df shape: {}, test df shape: {}'.format(train_df_red_dim.shape, test_df_red_dim.shape))\n",
    "train_df_red_dim.head()"
   ]
  },
  {
   "cell_type": "code",
   "execution_count": 17,
   "metadata": {},
   "outputs": [],
   "source": [
    "# Split features (X) and response (y)\n",
    "X_train = train_df_red_dim.iloc[:,:-2].reset_index(drop=True)\n",
    "y_train = train_df_red_dim.iloc[:,-2].reset_index(drop=True)\n",
    "X_test = test_df_red_dim.iloc[:,:-2].reset_index(drop=True)\n",
    "y_test = test_df_red_dim.iloc[:,-2].reset_index(drop=True)"
   ]
  },
  {
   "cell_type": "code",
   "execution_count": 18,
   "metadata": {},
   "outputs": [],
   "source": [
    "# Imputation\n",
    "from sklearn.impute import SimpleImputer\n",
    "\n",
    "imp = SimpleImputer(strategy='mean')\n",
    "imp = imp.fit(X_train)\n",
    "\n",
    "X_train_imp = imp.transform(X_train)\n",
    "X_test_imp = imp.transform(X_test)"
   ]
  },
  {
   "cell_type": "code",
   "execution_count": 19,
   "metadata": {},
   "outputs": [
    {
     "name": "stderr",
     "output_type": "stream",
     "text": [
      "C:\\Users\\msleo\\anaconda3\\lib\\site-packages\\sklearn\\ensemble\\iforest.py:415: DeprecationWarning: threshold_ attribute is deprecated in 0.20 and will be removed in 0.22.\n",
      "  \" be removed in 0.22.\", DeprecationWarning)\n",
      "C:\\Users\\msleo\\anaconda3\\lib\\site-packages\\sklearn\\ensemble\\iforest.py:415: DeprecationWarning: threshold_ attribute is deprecated in 0.20 and will be removed in 0.22.\n",
      "  \" be removed in 0.22.\", DeprecationWarning)\n"
     ]
    }
   ],
   "source": [
    "# Outlier detection\n",
    "from sklearn.ensemble import IsolationForest\n",
    "\n",
    "# Train the model on training dataset with label == 0\n",
    "clf = IsolationForest(random_state=1)\n",
    "clf.fit(X_train_imp[y_train[y_train == 0].index])\n",
    "\n",
    "# predictions\n",
    "train_outliers = clf.predict(X_train_imp)\n",
    "test_outliers = clf.predict(X_test_imp)"
   ]
  },
  {
   "cell_type": "code",
   "execution_count": 20,
   "metadata": {},
   "outputs": [],
   "source": [
    "# Add outlier prediction as a feature column\n",
    "X_train_imp_append = np.column_stack((X_train_imp, train_outliers))\n",
    "X_test_imp_append = np.column_stack((X_test_imp, test_outliers))"
   ]
  },
  {
   "cell_type": "code",
   "execution_count": 61,
   "metadata": {},
   "outputs": [],
   "source": [
    "# train_non_outliers_idx = [i for i, n in enumerate(train_outliers) if n > 0]\n",
    "# test_non_outliers_idx = [i for i, n in enumerate(test_outliers) if n > 0]\n",
    "# X_train_out = X_train_imp[train_non_outliers_idx]\n",
    "# y_train_out = y_train[train_non_outliers_idx]\n",
    "# X_test_out = X_train_imp[test_non_outliers_idx]\n",
    "# y_test_out = y_test[test_non_outliers_idx]"
   ]
  },
  {
   "cell_type": "code",
   "execution_count": null,
   "metadata": {},
   "outputs": [],
   "source": [
    "# Scaling"
   ]
  },
  {
   "cell_type": "code",
   "execution_count": 26,
   "metadata": {},
   "outputs": [],
   "source": [
    "from sklearn import preprocessing\n",
    "scaler = preprocessing.StandardScaler().fit(X_train_imp_append)\n",
    "X_train_imp_append_scaled = scaler.transform(X_train_imp_append)\n",
    "X_test_imp_append_scaled = scaler.transform(X_test_imp_append)"
   ]
  },
  {
   "cell_type": "code",
   "execution_count": 28,
   "metadata": {},
   "outputs": [
    {
     "name": "stderr",
     "output_type": "stream",
     "text": [
      "C:\\Users\\msleo\\anaconda3\\lib\\site-packages\\sklearn\\externals\\six.py:31: DeprecationWarning: The module is deprecated in version 0.21 and will be removed in version 0.23 since we've dropped support for Python 2.7. Please rely on the official version of six (https://pypi.org/project/six/).\n",
      "  \"(https://pypi.org/project/six/).\", DeprecationWarning)\n"
     ]
    }
   ],
   "source": [
    "# Downsample 100 times\n",
    "from imblearn.under_sampling import RandomUnderSampler\n",
    "from sklearn.ensemble import RandomForestClassifier"
   ]
  },
  {
   "cell_type": "code",
   "execution_count": 35,
   "metadata": {},
   "outputs": [
    {
     "name": "stdout",
     "output_type": "stream",
     "text": [
      "Fitting 5 folds for each of 162 candidates, totalling 810 fits\n"
     ]
    },
    {
     "name": "stderr",
     "output_type": "stream",
     "text": [
      "[Parallel(n_jobs=-1)]: Using backend LokyBackend with 8 concurrent workers.\n",
      "[Parallel(n_jobs=-1)]: Done  88 tasks      | elapsed:    0.9s\n",
      "[Parallel(n_jobs=-1)]: Done 810 out of 810 | elapsed:    6.0s finished\n",
      "[Parallel(n_jobs=-1)]: Using backend LokyBackend with 8 concurrent workers.\n"
     ]
    },
    {
     "name": "stdout",
     "output_type": "stream",
     "text": [
      "Fitting 5 folds for each of 162 candidates, totalling 810 fits\n"
     ]
    },
    {
     "name": "stderr",
     "output_type": "stream",
     "text": [
      "[Parallel(n_jobs=-1)]: Done  88 tasks      | elapsed:    0.8s\n",
      "[Parallel(n_jobs=-1)]: Done 810 out of 810 | elapsed:    6.2s finished\n",
      "[Parallel(n_jobs=-1)]: Using backend LokyBackend with 8 concurrent workers.\n"
     ]
    },
    {
     "name": "stdout",
     "output_type": "stream",
     "text": [
      "Fitting 5 folds for each of 162 candidates, totalling 810 fits\n"
     ]
    },
    {
     "name": "stderr",
     "output_type": "stream",
     "text": [
      "[Parallel(n_jobs=-1)]: Done  70 tasks      | elapsed:    0.6s\n",
      "[Parallel(n_jobs=-1)]: Done 810 out of 810 | elapsed:    6.3s finished\n",
      "[Parallel(n_jobs=-1)]: Using backend LokyBackend with 8 concurrent workers.\n"
     ]
    },
    {
     "name": "stdout",
     "output_type": "stream",
     "text": [
      "Fitting 5 folds for each of 162 candidates, totalling 810 fits\n"
     ]
    },
    {
     "name": "stderr",
     "output_type": "stream",
     "text": [
      "[Parallel(n_jobs=-1)]: Done 106 tasks      | elapsed:    1.0s\n",
      "[Parallel(n_jobs=-1)]: Done 810 out of 810 | elapsed:    6.9s finished\n",
      "[Parallel(n_jobs=-1)]: Using backend LokyBackend with 8 concurrent workers.\n"
     ]
    },
    {
     "name": "stdout",
     "output_type": "stream",
     "text": [
      "Fitting 5 folds for each of 162 candidates, totalling 810 fits\n"
     ]
    },
    {
     "name": "stderr",
     "output_type": "stream",
     "text": [
      "[Parallel(n_jobs=-1)]: Done  70 tasks      | elapsed:    0.9s\n",
      "[Parallel(n_jobs=-1)]: Done 810 out of 810 | elapsed:    9.0s finished\n"
     ]
    }
   ],
   "source": [
    "from sklearn.model_selection import GridSearchCV\n",
    "# Create the parameter grid based on the results of random search \n",
    "param_grid = {\n",
    "    'max_depth': [2, 5, 10],\n",
    "    'max_features': [2, 3],\n",
    "    'min_samples_leaf': [3, 4, 5],\n",
    "    'min_samples_split': [8, 10, 12],\n",
    "    'n_estimators': [10, 20, 30]\n",
    "}\n",
    "n = 5\n",
    "clf_list = []\n",
    "for i in range(n):\n",
    "    ros = RandomUnderSampler(random_state=i)\n",
    "    X_train_sam, y_train_sam = ros.fit_sample(X_train_imp_append_scaled, y_train)\n",
    "    \n",
    "    clf = RandomForestClassifier(random_state=i)\n",
    "    grid_search = GridSearchCV(estimator = clf, param_grid = param_grid, cv = 5, n_jobs = -1, verbose = 2, iid=True)  \n",
    "    clf_list.append(grid_search.fit(X_train_sam, y_train_sam))"
   ]
  },
  {
   "cell_type": "code",
   "execution_count": 36,
   "metadata": {},
   "outputs": [
    {
     "name": "stdout",
     "output_type": "stream",
     "text": [
      "best params: {'max_depth': 5, 'max_features': 2, 'min_samples_leaf': 5, 'min_samples_split': 8, 'n_estimators': 20}\n",
      "\n",
      "best params: {'max_depth': 5, 'max_features': 3, 'min_samples_leaf': 5, 'min_samples_split': 8, 'n_estimators': 10}\n",
      "\n",
      "best params: {'max_depth': 10, 'max_features': 2, 'min_samples_leaf': 4, 'min_samples_split': 8, 'n_estimators': 30}\n",
      "\n",
      "best params: {'max_depth': 10, 'max_features': 3, 'min_samples_leaf': 3, 'min_samples_split': 8, 'n_estimators': 20}\n",
      "\n",
      "best params: {'max_depth': 5, 'max_features': 3, 'min_samples_leaf': 3, 'min_samples_split': 8, 'n_estimators': 20}\n",
      "\n"
     ]
    }
   ],
   "source": [
    "y_pred_train_list = []\n",
    "y_pred_test_list = []\n",
    "for clf in clf_list:\n",
    "    print('best params: {}\\n'.format(clf.best_params_))\n",
    "    y_pred_train = clf.predict(X_train_imp_append_scaled)\n",
    "    y_pred_train_list.append(y_pred_train)\n",
    "    \n",
    "    y_pred_test = clf.predict(X_test_imp_append_scaled)\n",
    "    y_pred_test_list.append(y_pred_test)"
   ]
  },
  {
   "cell_type": "code",
   "execution_count": 37,
   "metadata": {},
   "outputs": [],
   "source": [
    "y_pred_list = np.array(y_pred_train_list)\n",
    "y_pred_train_ = np.mean(y_pred_list, axis=0)\n",
    "y_pred_train = [0 if x < 0.5 else 1 for x in y_pred_train_]\n",
    "\n",
    "y_pred_list = np.array(y_pred_test_list)\n",
    "y_pred_test_ = np.mean(y_pred_list, axis=0)\n",
    "y_pred_test = [0 if x < 0.5 else 1 for x in y_pred_test_]"
   ]
  },
  {
   "cell_type": "code",
   "execution_count": 38,
   "metadata": {},
   "outputs": [
    {
     "name": "stdout",
     "output_type": "stream",
     "text": [
      "Downsampled Classifier train AUC: 0.87\n",
      "Train Precision: 0.22. Train Recall: 0.99\n",
      "\n",
      "Downsampled Classifier test AUC: 0.54\n",
      "Test Precision: 0.10. Test Recall: 0.18\n"
     ]
    }
   ],
   "source": [
    "from sklearn import metrics\n",
    "name = 'Downsampled Classifier'\n",
    "fpr, tpr, thresholds = metrics.roc_curve(y_train, y_pred_train)\n",
    "precision = metrics.precision_score(y_train, y_pred_train)\n",
    "recall = metrics.recall_score(y_train, y_pred_train)\n",
    "print('{} train AUC: {:0.2f}'.format(name, metrics.auc(fpr, tpr)))\n",
    "print('Train Precision: {:0.2f}. Train Recall: {:0.2f}\\n'.format(precision, recall))\n",
    "\n",
    "fpr, tpr, thresholds = metrics.roc_curve(y_test, y_pred_test)\n",
    "precision = metrics.precision_score(y_test, y_pred_test)\n",
    "recall = metrics.recall_score(y_test, y_pred_test)\n",
    "print('{} test AUC: {:0.2f}'.format(name, metrics.auc(fpr, tpr)))\n",
    "print('Test Precision: {:0.2f}. Test Recall: {:0.2f}'.format(precision, recall))"
   ]
  },
  {
   "cell_type": "code",
   "execution_count": 39,
   "metadata": {},
   "outputs": [
    {
     "data": {
      "text/plain": [
       "array([[301,  36],\n",
       "       [ 18,   4]], dtype=int64)"
      ]
     },
     "execution_count": 39,
     "metadata": {},
     "output_type": "execute_result"
    }
   ],
   "source": [
    "metrics.confusion_matrix(y_test, y_pred_test)"
   ]
  },
  {
   "cell_type": "code",
   "execution_count": 40,
   "metadata": {},
   "outputs": [
    {
     "data": {
      "text/plain": [
       "(array([134.,   0., 126.,   0.,  59.,  26.,   0.,   0.,  12.,   2.]),\n",
       " array([0. , 0.1, 0.2, 0.3, 0.4, 0.5, 0.6, 0.7, 0.8, 0.9, 1. ]),\n",
       " <a list of 10 Patch objects>)"
      ]
     },
     "execution_count": 40,
     "metadata": {},
     "output_type": "execute_result"
    },
    {
     "data": {
      "image/png": "[encoded data removed]",
      "text/plain": [
       "<Figure size 432x288 with 1 Axes>"
      ]
     },
     "metadata": {
      "needs_background": "light"
     },
     "output_type": "display_data"
    }
   ],
   "source": [
    "plt.hist(y_pred_test_)"
   ]
  },
  {
   "cell_type": "code",
   "execution_count": null,
   "metadata": {},
   "outputs": [],
   "source": []
  },
  {
   "cell_type": "code",
   "execution_count": null,
   "metadata": {},
   "outputs": [],
   "source": []
  },
  {
   "cell_type": "code",
   "execution_count": null,
   "metadata": {},
   "outputs": [],
   "source": [
    "# Tests"
   ]
  },
  {
   "cell_type": "code",
   "execution_count": null,
   "metadata": {},
   "outputs": [],
   "source": [
    "data_df_missing_count = data_df.isna().sum()\n",
    "data_df_missing_count[data_df_missing_count > 100].sort_values(ascending = False)"
   ]
  },
  {
   "cell_type": "code",
   "execution_count": null,
   "metadata": {},
   "outputs": [],
   "source": [
    "def train_test_split(data_df, labels_df, split_date):\n",
    "    y_train = labels_df['Label'][labels_df['Date'] < split_date]\n",
    "    y_test = labels_df['Label'][labels_df['Date'] >= split_date]\n",
    "    \n",
    "    X_train = data_df.loc[y_train.index]\n",
    "    X_test = data_df.loc[y_test.index]\n",
    "    \n",
    "    print('X_train, y_train, X_test, y_test shapes: {}, {}, {}, {}'\\\n",
    "      .format(X_train.shape, y_train.shape, X_test.shape, y_test.shape))\n",
    "    \n",
    "    return X_train, y_train, X_test, y_test"
   ]
  },
  {
   "cell_type": "code",
   "execution_count": null,
   "metadata": {},
   "outputs": [],
   "source": [
    "X_train, y_train, X_test, y_test = train_test_split(data_df, labels_df, '2008-10-01')"
   ]
  },
  {
   "cell_type": "code",
   "execution_count": null,
   "metadata": {},
   "outputs": [],
   "source": []
  },
  {
   "cell_type": "code",
   "execution_count": null,
   "metadata": {},
   "outputs": [],
   "source": [
    "# Classification"
   ]
  },
  {
   "cell_type": "code",
   "execution_count": null,
   "metadata": {},
   "outputs": [],
   "source": [
    "from sklearn.neural_network import MLPClassifier\n",
    "from sklearn.neighbors import KNeighborsClassifier\n",
    "from sklearn.svm import SVC\n",
    "from sklearn.gaussian_process import GaussianProcessClassifier\n",
    "from sklearn.gaussian_process.kernels import RBF\n",
    "from sklearn.tree import DecisionTreeClassifier\n",
    "from sklearn.ensemble import RandomForestClassifier, AdaBoostClassifier, GradientBoostingClassifier\n",
    "from sklearn.naive_bayes import GaussianNB\n",
    "from sklearn.discriminant_analysis import QuadraticDiscriminantAnalysis\n",
    "from sklearn import metrics"
   ]
  },
  {
   "cell_type": "code",
   "execution_count": null,
   "metadata": {},
   "outputs": [],
   "source": [
    "def classifier_comparison(X_train, y_train, X_test, y_test):\n",
    "    names = [\"Nearest Neighbors\", \"Decision Tree\", \"Random Forest\", \"Neural Net\", \"AdaBoost\", \"Gradient Boosting\", \"Naive Bayes\", \"QDA\"]\n",
    "\n",
    "    classifiers = [\n",
    "        KNeighborsClassifier(),\n",
    "        DecisionTreeClassifier(),\n",
    "        RandomForestClassifier(),\n",
    "        MLPClassifier(),\n",
    "        AdaBoostClassifier(),\n",
    "        GradientBoostingClassifier(),\n",
    "        GaussianNB(),\n",
    "        QuadraticDiscriminantAnalysis()]\n",
    "    \n",
    "    for name, clf in zip(names, classifiers):\n",
    "        clf.fit(X_train, y_train)\n",
    "        y_pred = clf.predict(X_train)\n",
    "        fpr, tpr, thresholds = metrics.roc_curve(y_train, y_pred)\n",
    "        print('{} train AUC: {}'.format(name, metrics.auc(fpr, tpr)))\n",
    "        y_pred = clf.predict(X_test)\n",
    "        fpr, tpr, thresholds = metrics.roc_curve(y_test, y_pred)\n",
    "        print('{} test AUC: {}\\n'.format(name, metrics.auc(fpr, tpr)))"
   ]
  },
  {
   "cell_type": "code",
   "execution_count": null,
   "metadata": {},
   "outputs": [],
   "source": [
    "# Imputation"
   ]
  },
  {
   "cell_type": "code",
   "execution_count": null,
   "metadata": {},
   "outputs": [],
   "source": [
    "from sklearn.impute import SimpleImputer\n",
    "\n",
    "imp = SimpleImputer(strategy='mean')\n",
    "imp = imp.fit(X_train)\n",
    "\n",
    "X_train_imp = imp.transform(X_train)\n",
    "X_test_imp = imp.transform(X_test)"
   ]
  },
  {
   "cell_type": "code",
   "execution_count": null,
   "metadata": {
    "scrolled": false
   },
   "outputs": [],
   "source": [
    "classifier_comparison(X_train_imp, y_train, X_test_imp, y_test)"
   ]
  },
  {
   "cell_type": "code",
   "execution_count": null,
   "metadata": {},
   "outputs": [],
   "source": [
    "# SMOTE"
   ]
  },
  {
   "cell_type": "code",
   "execution_count": null,
   "metadata": {},
   "outputs": [],
   "source": [
    "#!pip install imblearn"
   ]
  },
  {
   "cell_type": "code",
   "execution_count": null,
   "metadata": {},
   "outputs": [],
   "source": [
    "from imblearn.over_sampling import SMOTE\n",
    "\n",
    "smt = SMOTE()\n",
    "X_train_imp_smt, y_train_smt = smt.fit_sample(X_train_imp, y_train)"
   ]
  },
  {
   "cell_type": "code",
   "execution_count": null,
   "metadata": {},
   "outputs": [],
   "source": [
    "plt.subplot(1,2,1)\n",
    "plt.hist(y_train)\n",
    "plt.title('y_train')\n",
    "plt.subplot(1,2,2)\n",
    "plt.hist(y_train_smt)\n",
    "plt.title('y_train_smt')\n",
    "plt.tight_layout();"
   ]
  },
  {
   "cell_type": "code",
   "execution_count": null,
   "metadata": {},
   "outputs": [],
   "source": [
    "classifier_comparison(X_train_imp_smt, y_train_smt, X_test_imp, y_test)"
   ]
  },
  {
   "cell_type": "code",
   "execution_count": null,
   "metadata": {},
   "outputs": [],
   "source": []
  },
  {
   "cell_type": "code",
   "execution_count": null,
   "metadata": {},
   "outputs": [],
   "source": [
    "#PCA"
   ]
  },
  {
   "cell_type": "code",
   "execution_count": null,
   "metadata": {},
   "outputs": [],
   "source": [
    "from sklearn.decomposition import PCA"
   ]
  },
  {
   "cell_type": "code",
   "execution_count": null,
   "metadata": {},
   "outputs": [],
   "source": [
    "pca = PCA(n_components=0.97)\n",
    "pca.fit(X_train_imp)  \n",
    "\n",
    "print(pca.explained_variance_ratio_)  "
   ]
  },
  {
   "cell_type": "code",
   "execution_count": null,
   "metadata": {},
   "outputs": [],
   "source": [
    "X_train_imp_pca = pca.transform(X_train_imp)\n",
    "X_test_imp_pca = pca.transform(X_test_imp)\n",
    "classifier_comparison(X_train_imp_pca, y_train, X_test_imp_pca, y_test)"
   ]
  },
  {
   "cell_type": "code",
   "execution_count": null,
   "metadata": {},
   "outputs": [],
   "source": [
    "# Downsampling"
   ]
  },
  {
   "cell_type": "code",
   "execution_count": null,
   "metadata": {},
   "outputs": [],
   "source": [
    "from imblearn.under_sampling import RandomUnderSampler\n",
    "ros = RandomUnderSampler(random_state=1)\n",
    "X_train_imp_pca_sam, y_train_sam = ros.fit_sample(X_train_imp_pca, y_train)\n",
    "plt.hist(y_train_sam);"
   ]
  },
  {
   "cell_type": "code",
   "execution_count": null,
   "metadata": {},
   "outputs": [],
   "source": [
    "classifier_comparison(X_train_imp_pca_sam, y_train_sam, X_test_imp_pca, y_test)"
   ]
  },
  {
   "cell_type": "code",
   "execution_count": null,
   "metadata": {},
   "outputs": [],
   "source": [
    "# Isolation forest"
   ]
  },
  {
   "cell_type": "code",
   "execution_count": null,
   "metadata": {},
   "outputs": [],
   "source": [
    "from sklearn.ensemble import IsolationForest\n",
    "from sklearn.metrics import precision_score, recall_score, confusion_matrix\n",
    "\n",
    "#classifier_comparison(X_train_imp_pca, y_train, X_test_imp_pca, y_test)\n",
    "clf = IsolationForest(random_state=1, bootstrap = True, max_features =0.6)\n",
    "clf.fit(X_train_imp)\n",
    "\n",
    "# predictions\n",
    "y_pred_train = clf.predict(X_train_imp)\n",
    "y_pred_test = clf.predict(X_test_imp)"
   ]
  },
  {
   "cell_type": "code",
   "execution_count": null,
   "metadata": {},
   "outputs": [],
   "source": [
    "y_pred_train = [1 if x < 0 else 0 for x in y_pred_train]\n",
    "y_pred_test = [1 if x < 0 else 0 for x in y_pred_test]\n",
    "\n",
    "name = 'Isolation Forest'\n",
    "fpr, tpr, thresholds = metrics.roc_curve(y_train, y_pred_train)\n",
    "precision = precision_score(y_train, y_pred_train)\n",
    "recall = recall_score(y_train, y_pred_train)\n",
    "print('{} train AUC: {:0.2f}'.format(name, metrics.auc(fpr, tpr)))\n",
    "print('Train Precision: {:0.2f}. Train Recall: {:0.2f}\\n'.format(precision, recall))\n",
    "\n",
    "fpr, tpr, thresholds = metrics.roc_curve(y_test, y_pred_test)\n",
    "precision = precision_score(y_test, y_pred_test)\n",
    "recall = recall_score(y_test, y_pred_test)\n",
    "print('{} test AUC: {:0.2f}'.format(name, metrics.auc(fpr, tpr)))\n",
    "print('Test Precision: {:0.2f}. Test Recall: {:0.2f}'.format(precision, recall))"
   ]
  },
  {
   "cell_type": "code",
   "execution_count": null,
   "metadata": {},
   "outputs": [],
   "source": []
  },
  {
   "cell_type": "code",
   "execution_count": null,
   "metadata": {},
   "outputs": [],
   "source": [
    "confusion_matrix(y_test, y_pred_test)"
   ]
  },
  {
   "cell_type": "code",
   "execution_count": null,
   "metadata": {},
   "outputs": [],
   "source": []
  },
  {
   "cell_type": "code",
   "execution_count": null,
   "metadata": {},
   "outputs": [],
   "source": [
    "# PCA SMOTE"
   ]
  },
  {
   "cell_type": "code",
   "execution_count": null,
   "metadata": {},
   "outputs": [],
   "source": [
    "pca_smt = PCA(n_components=0.97)\n",
    "pca_smt.fit(X_train_imp_smt)  \n",
    "\n",
    "print(pca_smt.explained_variance_ratio_)  "
   ]
  },
  {
   "cell_type": "code",
   "execution_count": null,
   "metadata": {},
   "outputs": [],
   "source": [
    "X_train_imp_smt_pca = pca_smt.transform(X_train_imp_smt)\n",
    "X_test_imp_pca = pca_smt.transform(X_test_imp)\n",
    "classifier_comparison(X_train_imp_smt_pca, y_train_smt, X_test_imp_pca, y_test)"
   ]
  },
  {
   "cell_type": "code",
   "execution_count": null,
   "metadata": {},
   "outputs": [],
   "source": []
  },
  {
   "cell_type": "code",
   "execution_count": null,
   "metadata": {},
   "outputs": [],
   "source": []
  },
  {
   "cell_type": "code",
   "execution_count": null,
   "metadata": {},
   "outputs": [],
   "source": []
  },
  {
   "cell_type": "code",
   "execution_count": null,
   "metadata": {},
   "outputs": [],
   "source": []
  },
  {
   "cell_type": "code",
   "execution_count": null,
   "metadata": {},
   "outputs": [],
   "source": [
    "name = 'Random Forest'\n",
    "clf = RandomForestClassifier()\n",
    "clf.fit(X_train_imp_sam, y_train_sam)\n",
    "y_pred = clf.predict(X_train_imp_sam)\n",
    "fpr, tpr, thresholds = metrics.roc_curve(y_train_sam, y_pred)\n",
    "precision = precision_score(y_train_sam, y_pred)\n",
    "recall = recall_score(y_train_sam, y_pred)\n",
    "print('{} train AUC: {:0.2f}'.format(name, metrics.auc(fpr, tpr)))\n",
    "print('Train Precision: {:0.2f}. Train Recall: {:0.2f}\\n'.format(precision, recall))\n",
    "\n",
    "y_pred = clf.predict(X_test_imp)\n",
    "fpr, tpr, thresholds = metrics.roc_curve(y_test, y_pred)\n",
    "precision = precision_score(y_test, y_pred)\n",
    "recall = recall_score(y_test, y_pred)\n",
    "print('{} test AUC: {:0.2f}'.format(name, metrics.auc(fpr, tpr)))\n",
    "print('Test Precision: {:0.2f}. Train Recall: {:0.2f}'.format(precision, recall))"
   ]
  },
  {
   "cell_type": "code",
   "execution_count": null,
   "metadata": {},
   "outputs": [],
   "source": [
    "name = 'Classifier'\n",
    "from imblearn.ensemble import BalancedBaggingClassifier\n",
    "from imblearn.ensemble import BalancedRandomForestClassifier\n",
    "from imblearn.ensemble import EasyEnsembleClassifier\n",
    "from imblearn.ensemble import RUSBoostClassifier\n",
    "clf = BalancedRandomForestClassifier(max_depth=2, random_state=0, max_features=0.6)\n",
    "\n",
    "clf.fit(X_train_imp, y_train)\n",
    "y_pred = clf.predict(X_train_imp)\n",
    "fpr, tpr, thresholds = metrics.roc_curve(y_train, y_pred)\n",
    "precision = precision_score(y_train, y_pred)\n",
    "recall = recall_score(y_train, y_pred)\n",
    "print('{} train AUC: {:0.2f}'.format(name, metrics.auc(fpr, tpr)))\n",
    "print('Train Precision: {:0.2f}. Train Recall: {:0.2f}\\n'.format(precision, recall))\n",
    "\n",
    "y_pred = clf.predict(X_test_imp)\n",
    "fpr, tpr, thresholds = metrics.roc_curve(y_test, y_pred)\n",
    "precision = precision_score(y_test, y_pred)\n",
    "recall = recall_score(y_test, y_pred)\n",
    "print('{} test AUC: {:0.2f}'.format(name, metrics.auc(fpr, tpr)))\n",
    "print('Test Precision: {:0.2f}. Train Recall: {:0.2f}'.format(precision, recall))"
   ]
  },
  {
   "cell_type": "code",
   "execution_count": null,
   "metadata": {},
   "outputs": [],
   "source": []
  },
  {
   "cell_type": "code",
   "execution_count": null,
   "metadata": {},
   "outputs": [],
   "source": []
  },
  {
   "cell_type": "code",
   "execution_count": null,
   "metadata": {},
   "outputs": [],
   "source": [
    "# Where –1 corresponds to a pass and 1 corresponds to a fail and the data time stamp is for that specific test point.\n",
    "data = pd.read_csv(\"data/secom.data\",  delimiter=' ', header=None, index_col=False)\n",
    "target = pd.read_csv(\"data/secom_labels.data\", header=None, index_col=False, delimiter=' ', usecols=[0])\n",
    "data_size, feature_size = data.shape\n",
    "\n",
    "'''pre processing steps'''\n",
    "\n",
    "data = data.dropna(axis=1, thresh=int(2*data_size/4))\n",
    "data_size, feature_size = data.shape\n",
    "data = data.dropna(axis=0, thresh=int(2*feature_size/4))\n",
    "imputer = preprocessing.Imputer(missing_values='NaN', strategy='median', axis=0)\n",
    "target = np.asarray(target).reshape((data_size,))\n",
    "data = np.asarray(data)\n",
    "low_Var = VarianceThreshold(0.1)\n",
    "scaler = preprocessing.StandardScaler()\n",
    "pca = PCA(n_components=10,svd_solver='full')\n",
    "\n",
    "''' customized accuracy scores '''\n",
    "\n",
    "\n",
    "def tp_rate(y_true, y_pred): return confusion_matrix(y_true, y_pred)[0, 0]/(confusion_matrix(y_true, y_pred)[0, 0] +\n",
    "                                                                            confusion_matrix(y_true, y_pred)[0, 1])\n",
    "\n",
    "\n",
    "def tn_rate(y_true, y_pred): return confusion_matrix(y_true, y_pred)[1, 1]/(confusion_matrix(y_true, y_pred)[1, 1] +\n",
    "                                                                            confusion_matrix(y_true, y_pred)[1, 0])\n",
    "\n",
    "\n",
    "def BER(y_true, y_pred): return 1-(0.5*(confusion_matrix(y_true, y_pred)[0, 0]/(confusion_matrix(y_true, y_pred)[0, 0] +\n",
    "                                                                                confusion_matrix(y_true, y_pred)[0, 1]) +\n",
    "                                        confusion_matrix(y_true, y_pred)[1, 1] / (\n",
    "                                        confusion_matrix(y_true, y_pred)[1, 1] +\n",
    "                                        confusion_matrix(y_true, y_pred)[1, 0])))\n",
    "\n",
    "\n",
    "clf = XGBClassifier(booster=\"gblinear\", n_estimators=500)\n",
    "kf = KFold(n_splits=10, shuffle=True, random_state=0)\n",
    "tp = np.zeros(10)\n",
    "ber = np.zeros(10)\n",
    "tn = np.zeros(10)"
   ]
  },
  {
   "cell_type": "code",
   "execution_count": null,
   "metadata": {},
   "outputs": [],
   "source": [
    "clf_R = RFE(estimator=svm.SVR(kernel='linear', C=1), n_features_to_select=40, step=1)\n",
    "rfe = SelectFromModel(clf_R)\n",
    "select_k = SelectKBest(k=40)                         # other option mutual_info_classif"
   ]
  },
  {
   "cell_type": "code",
   "execution_count": null,
   "metadata": {},
   "outputs": [],
   "source": [
    "i = 0\n",
    "for train_index, test_index in kf.split(data):\n",
    "    data_train, data_test = data[train_index], data[test_index]\n",
    "    target_train, target_test = target[train_index], target[test_index]\n",
    "    data_train = imputer.fit_transform(data_train)\n",
    "    ros = RandomUnderSampler(random_state=1)      # alternative ros = RandomOverSampler(random_state=1)\n",
    "    data_train, target_train = ros.fit_sample(data_train, target_train)\n",
    "    rfe = rfe.fit(data_train, target_train)\n",
    "    pipeline = Pipeline(steps=[('impute', imputer),\n",
    "                               ('var', low_Var),\n",
    "                               ('scale', scaler),\n",
    "                               ('FS', select_k),\n",
    "                               ('clf', clf)])\n",
    "\n",
    "    pipeline.fit(data_train, target_train)\n",
    "    predict = pipeline.predict(data_test)\n",
    "    ber[i] = BER(target_test, predict)\n",
    "    tp[i] = tp_rate(target_test, predict)\n",
    "    tn[i] = tn_rate(target_test, predict)\n",
    "    i += 1"
   ]
  },
  {
   "cell_type": "code",
   "execution_count": null,
   "metadata": {},
   "outputs": [],
   "source": [
    "print(\"TP: %0.2f (+/- %0.2f)\" % (np.mean(tp),\n",
    "                                  np.std(tp) * 2))\n",
    "print(\"TN: %0.2f (+/- %0.2f)\" % (np.mean(tn),\n",
    "                                      np.std(tn) * 2))\n",
    "print(\"BER: %0.2f (+/- %0.2f)\" % (np.mean(ber),\n",
    "                                     np.std(ber) * 2))"
   ]
  },
  {
   "cell_type": "code",
   "execution_count": null,
   "metadata": {},
   "outputs": [],
   "source": []
  },
  {
   "cell_type": "code",
   "execution_count": null,
   "metadata": {},
   "outputs": [],
   "source": []
  },
  {
   "cell_type": "code",
   "execution_count": null,
   "metadata": {},
   "outputs": [],
   "source": []
  },
  {
   "cell_type": "code",
   "execution_count": null,
   "metadata": {},
   "outputs": [],
   "source": []
  },
  {
   "cell_type": "code",
   "execution_count": null,
   "metadata": {},
   "outputs": [],
   "source": []
  },
  {
   "cell_type": "code",
   "execution_count": null,
   "metadata": {},
   "outputs": [],
   "source": []
  }
 ],
 "metadata": {
  "kernelspec": {
   "display_name": "Python 3",
   "language": "python",
   "name": "python3"
  },
  "language_info": {
   "codemirror_mode": {
    "name": "ipython",
    "version": 3
   },
   "file_extension": ".py",
   "mimetype": "text/x-python",
   "name": "python",
   "nbconvert_exporter": "python",
   "pygments_lexer": "ipython3",
   "version": "3.7.3"
  }
 },
 "nbformat": 4,
 "nbformat_minor": 2
}
